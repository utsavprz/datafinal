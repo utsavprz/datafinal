{
 "cells": [
  {
   "cell_type": "code",
   "execution_count": 3,
   "id": "1581889f",
   "metadata": {},
   "outputs": [],
   "source": [
    "import pandas as pd\n",
    "import numpy as np\n",
    "import seaborn as sns\n",
    "import matplotlib.pyplot as plt\n",
    "%matplotlib inline\n",
    "from sklearn.preprocessing import MinMaxScaler"
   ]
  },
  {
   "cell_type": "code",
   "execution_count": 4,
   "id": "5091223a",
   "metadata": {},
   "outputs": [
    {
     "data": {
      "text/html": [
       "<div>\n",
       "<style scoped>\n",
       "    .dataframe tbody tr th:only-of-type {\n",
       "        vertical-align: middle;\n",
       "    }\n",
       "\n",
       "    .dataframe tbody tr th {\n",
       "        vertical-align: top;\n",
       "    }\n",
       "\n",
       "    .dataframe thead th {\n",
       "        text-align: right;\n",
       "    }\n",
       "</style>\n",
       "<table border=\"1\" class=\"dataframe\">\n",
       "  <thead>\n",
       "    <tr style=\"text-align: right;\">\n",
       "      <th></th>\n",
       "      <th>sl_no</th>\n",
       "      <th>gender</th>\n",
       "      <th>ssc_p</th>\n",
       "      <th>ssc_b</th>\n",
       "      <th>hsc_p</th>\n",
       "      <th>hsc_b</th>\n",
       "      <th>hsc_s</th>\n",
       "      <th>degree_p</th>\n",
       "      <th>degree_t</th>\n",
       "      <th>workex</th>\n",
       "      <th>etest_p</th>\n",
       "      <th>specialisation</th>\n",
       "      <th>mba_p</th>\n",
       "      <th>status</th>\n",
       "      <th>salary</th>\n",
       "    </tr>\n",
       "  </thead>\n",
       "  <tbody>\n",
       "    <tr>\n",
       "      <th>0</th>\n",
       "      <td>1</td>\n",
       "      <td>M</td>\n",
       "      <td>67.00</td>\n",
       "      <td>Others</td>\n",
       "      <td>91.00</td>\n",
       "      <td>Others</td>\n",
       "      <td>Commerce</td>\n",
       "      <td>58.00</td>\n",
       "      <td>Sci&amp;Tech</td>\n",
       "      <td>No</td>\n",
       "      <td>55.0</td>\n",
       "      <td>Mkt&amp;HR</td>\n",
       "      <td>58.80</td>\n",
       "      <td>Placed</td>\n",
       "      <td>270000.0</td>\n",
       "    </tr>\n",
       "    <tr>\n",
       "      <th>1</th>\n",
       "      <td>2</td>\n",
       "      <td>M</td>\n",
       "      <td>79.33</td>\n",
       "      <td>Central</td>\n",
       "      <td>78.33</td>\n",
       "      <td>Others</td>\n",
       "      <td>Science</td>\n",
       "      <td>77.48</td>\n",
       "      <td>Sci&amp;Tech</td>\n",
       "      <td>Yes</td>\n",
       "      <td>86.5</td>\n",
       "      <td>Mkt&amp;Fin</td>\n",
       "      <td>66.28</td>\n",
       "      <td>Placed</td>\n",
       "      <td>200000.0</td>\n",
       "    </tr>\n",
       "    <tr>\n",
       "      <th>2</th>\n",
       "      <td>3</td>\n",
       "      <td>M</td>\n",
       "      <td>65.00</td>\n",
       "      <td>Central</td>\n",
       "      <td>68.00</td>\n",
       "      <td>Central</td>\n",
       "      <td>Arts</td>\n",
       "      <td>64.00</td>\n",
       "      <td>Comm&amp;Mgmt</td>\n",
       "      <td>No</td>\n",
       "      <td>75.0</td>\n",
       "      <td>Mkt&amp;Fin</td>\n",
       "      <td>57.80</td>\n",
       "      <td>Placed</td>\n",
       "      <td>250000.0</td>\n",
       "    </tr>\n",
       "    <tr>\n",
       "      <th>3</th>\n",
       "      <td>4</td>\n",
       "      <td>M</td>\n",
       "      <td>56.00</td>\n",
       "      <td>Central</td>\n",
       "      <td>52.00</td>\n",
       "      <td>Central</td>\n",
       "      <td>Science</td>\n",
       "      <td>52.00</td>\n",
       "      <td>Sci&amp;Tech</td>\n",
       "      <td>No</td>\n",
       "      <td>66.0</td>\n",
       "      <td>Mkt&amp;HR</td>\n",
       "      <td>59.43</td>\n",
       "      <td>Not Placed</td>\n",
       "      <td>NaN</td>\n",
       "    </tr>\n",
       "    <tr>\n",
       "      <th>4</th>\n",
       "      <td>5</td>\n",
       "      <td>M</td>\n",
       "      <td>85.80</td>\n",
       "      <td>Central</td>\n",
       "      <td>73.60</td>\n",
       "      <td>Central</td>\n",
       "      <td>Commerce</td>\n",
       "      <td>73.30</td>\n",
       "      <td>Comm&amp;Mgmt</td>\n",
       "      <td>No</td>\n",
       "      <td>96.8</td>\n",
       "      <td>Mkt&amp;Fin</td>\n",
       "      <td>55.50</td>\n",
       "      <td>Placed</td>\n",
       "      <td>425000.0</td>\n",
       "    </tr>\n",
       "    <tr>\n",
       "      <th>...</th>\n",
       "      <td>...</td>\n",
       "      <td>...</td>\n",
       "      <td>...</td>\n",
       "      <td>...</td>\n",
       "      <td>...</td>\n",
       "      <td>...</td>\n",
       "      <td>...</td>\n",
       "      <td>...</td>\n",
       "      <td>...</td>\n",
       "      <td>...</td>\n",
       "      <td>...</td>\n",
       "      <td>...</td>\n",
       "      <td>...</td>\n",
       "      <td>...</td>\n",
       "      <td>...</td>\n",
       "    </tr>\n",
       "    <tr>\n",
       "      <th>210</th>\n",
       "      <td>211</td>\n",
       "      <td>M</td>\n",
       "      <td>80.60</td>\n",
       "      <td>Others</td>\n",
       "      <td>82.00</td>\n",
       "      <td>Others</td>\n",
       "      <td>Commerce</td>\n",
       "      <td>77.60</td>\n",
       "      <td>Comm&amp;Mgmt</td>\n",
       "      <td>No</td>\n",
       "      <td>91.0</td>\n",
       "      <td>Mkt&amp;Fin</td>\n",
       "      <td>74.49</td>\n",
       "      <td>Placed</td>\n",
       "      <td>400000.0</td>\n",
       "    </tr>\n",
       "    <tr>\n",
       "      <th>211</th>\n",
       "      <td>212</td>\n",
       "      <td>M</td>\n",
       "      <td>58.00</td>\n",
       "      <td>Others</td>\n",
       "      <td>60.00</td>\n",
       "      <td>Others</td>\n",
       "      <td>Science</td>\n",
       "      <td>72.00</td>\n",
       "      <td>Sci&amp;Tech</td>\n",
       "      <td>No</td>\n",
       "      <td>74.0</td>\n",
       "      <td>Mkt&amp;Fin</td>\n",
       "      <td>53.62</td>\n",
       "      <td>Placed</td>\n",
       "      <td>275000.0</td>\n",
       "    </tr>\n",
       "    <tr>\n",
       "      <th>212</th>\n",
       "      <td>213</td>\n",
       "      <td>M</td>\n",
       "      <td>67.00</td>\n",
       "      <td>Others</td>\n",
       "      <td>67.00</td>\n",
       "      <td>Others</td>\n",
       "      <td>Commerce</td>\n",
       "      <td>73.00</td>\n",
       "      <td>Comm&amp;Mgmt</td>\n",
       "      <td>Yes</td>\n",
       "      <td>59.0</td>\n",
       "      <td>Mkt&amp;Fin</td>\n",
       "      <td>69.72</td>\n",
       "      <td>Placed</td>\n",
       "      <td>295000.0</td>\n",
       "    </tr>\n",
       "    <tr>\n",
       "      <th>213</th>\n",
       "      <td>214</td>\n",
       "      <td>F</td>\n",
       "      <td>74.00</td>\n",
       "      <td>Others</td>\n",
       "      <td>66.00</td>\n",
       "      <td>Others</td>\n",
       "      <td>Commerce</td>\n",
       "      <td>58.00</td>\n",
       "      <td>Comm&amp;Mgmt</td>\n",
       "      <td>No</td>\n",
       "      <td>70.0</td>\n",
       "      <td>Mkt&amp;HR</td>\n",
       "      <td>60.23</td>\n",
       "      <td>Placed</td>\n",
       "      <td>204000.0</td>\n",
       "    </tr>\n",
       "    <tr>\n",
       "      <th>214</th>\n",
       "      <td>215</td>\n",
       "      <td>M</td>\n",
       "      <td>62.00</td>\n",
       "      <td>Central</td>\n",
       "      <td>58.00</td>\n",
       "      <td>Others</td>\n",
       "      <td>Science</td>\n",
       "      <td>53.00</td>\n",
       "      <td>Comm&amp;Mgmt</td>\n",
       "      <td>No</td>\n",
       "      <td>89.0</td>\n",
       "      <td>Mkt&amp;HR</td>\n",
       "      <td>60.22</td>\n",
       "      <td>Not Placed</td>\n",
       "      <td>NaN</td>\n",
       "    </tr>\n",
       "  </tbody>\n",
       "</table>\n",
       "<p>215 rows × 15 columns</p>\n",
       "</div>"
      ],
      "text/plain": [
       "     sl_no gender  ssc_p    ssc_b  hsc_p    hsc_b     hsc_s  degree_p  \\\n",
       "0        1      M  67.00   Others  91.00   Others  Commerce     58.00   \n",
       "1        2      M  79.33  Central  78.33   Others   Science     77.48   \n",
       "2        3      M  65.00  Central  68.00  Central      Arts     64.00   \n",
       "3        4      M  56.00  Central  52.00  Central   Science     52.00   \n",
       "4        5      M  85.80  Central  73.60  Central  Commerce     73.30   \n",
       "..     ...    ...    ...      ...    ...      ...       ...       ...   \n",
       "210    211      M  80.60   Others  82.00   Others  Commerce     77.60   \n",
       "211    212      M  58.00   Others  60.00   Others   Science     72.00   \n",
       "212    213      M  67.00   Others  67.00   Others  Commerce     73.00   \n",
       "213    214      F  74.00   Others  66.00   Others  Commerce     58.00   \n",
       "214    215      M  62.00  Central  58.00   Others   Science     53.00   \n",
       "\n",
       "      degree_t workex  etest_p specialisation  mba_p      status    salary  \n",
       "0     Sci&Tech     No     55.0         Mkt&HR  58.80      Placed  270000.0  \n",
       "1     Sci&Tech    Yes     86.5        Mkt&Fin  66.28      Placed  200000.0  \n",
       "2    Comm&Mgmt     No     75.0        Mkt&Fin  57.80      Placed  250000.0  \n",
       "3     Sci&Tech     No     66.0         Mkt&HR  59.43  Not Placed       NaN  \n",
       "4    Comm&Mgmt     No     96.8        Mkt&Fin  55.50      Placed  425000.0  \n",
       "..         ...    ...      ...            ...    ...         ...       ...  \n",
       "210  Comm&Mgmt     No     91.0        Mkt&Fin  74.49      Placed  400000.0  \n",
       "211   Sci&Tech     No     74.0        Mkt&Fin  53.62      Placed  275000.0  \n",
       "212  Comm&Mgmt    Yes     59.0        Mkt&Fin  69.72      Placed  295000.0  \n",
       "213  Comm&Mgmt     No     70.0         Mkt&HR  60.23      Placed  204000.0  \n",
       "214  Comm&Mgmt     No     89.0         Mkt&HR  60.22  Not Placed       NaN  \n",
       "\n",
       "[215 rows x 15 columns]"
      ]
     },
     "execution_count": 4,
     "metadata": {},
     "output_type": "execute_result"
    }
   ],
   "source": [
    "placement_df = pd.read_csv('Placement_Data_Full_Class.csv')\n",
    "placement_df"
   ]
  },
  {
   "cell_type": "code",
   "execution_count": 5,
   "id": "d77227d5",
   "metadata": {},
   "outputs": [
    {
     "data": {
      "text/plain": [
       "(215, 15)"
      ]
     },
     "execution_count": 5,
     "metadata": {},
     "output_type": "execute_result"
    }
   ],
   "source": [
    "placement_df.shape"
   ]
  },
  {
   "cell_type": "markdown",
   "id": "d4a45070",
   "metadata": {},
   "source": [
    "## Summarizing the data "
   ]
  },
  {
   "cell_type": "code",
   "execution_count": 6,
   "id": "05e89911",
   "metadata": {
    "scrolled": false
   },
   "outputs": [
    {
     "data": {
      "text/html": [
       "<div>\n",
       "<style scoped>\n",
       "    .dataframe tbody tr th:only-of-type {\n",
       "        vertical-align: middle;\n",
       "    }\n",
       "\n",
       "    .dataframe tbody tr th {\n",
       "        vertical-align: top;\n",
       "    }\n",
       "\n",
       "    .dataframe thead th {\n",
       "        text-align: right;\n",
       "    }\n",
       "</style>\n",
       "<table border=\"1\" class=\"dataframe\">\n",
       "  <thead>\n",
       "    <tr style=\"text-align: right;\">\n",
       "      <th></th>\n",
       "      <th>gender</th>\n",
       "      <th>ssc_b</th>\n",
       "      <th>hsc_b</th>\n",
       "      <th>hsc_s</th>\n",
       "      <th>degree_t</th>\n",
       "      <th>workex</th>\n",
       "      <th>specialisation</th>\n",
       "      <th>status</th>\n",
       "    </tr>\n",
       "  </thead>\n",
       "  <tbody>\n",
       "    <tr>\n",
       "      <th>count</th>\n",
       "      <td>215</td>\n",
       "      <td>215</td>\n",
       "      <td>215</td>\n",
       "      <td>215</td>\n",
       "      <td>215</td>\n",
       "      <td>215</td>\n",
       "      <td>215</td>\n",
       "      <td>215</td>\n",
       "    </tr>\n",
       "    <tr>\n",
       "      <th>unique</th>\n",
       "      <td>2</td>\n",
       "      <td>2</td>\n",
       "      <td>2</td>\n",
       "      <td>3</td>\n",
       "      <td>3</td>\n",
       "      <td>2</td>\n",
       "      <td>2</td>\n",
       "      <td>2</td>\n",
       "    </tr>\n",
       "    <tr>\n",
       "      <th>top</th>\n",
       "      <td>M</td>\n",
       "      <td>Central</td>\n",
       "      <td>Others</td>\n",
       "      <td>Commerce</td>\n",
       "      <td>Comm&amp;Mgmt</td>\n",
       "      <td>No</td>\n",
       "      <td>Mkt&amp;Fin</td>\n",
       "      <td>Placed</td>\n",
       "    </tr>\n",
       "    <tr>\n",
       "      <th>freq</th>\n",
       "      <td>139</td>\n",
       "      <td>116</td>\n",
       "      <td>131</td>\n",
       "      <td>113</td>\n",
       "      <td>145</td>\n",
       "      <td>141</td>\n",
       "      <td>120</td>\n",
       "      <td>148</td>\n",
       "    </tr>\n",
       "  </tbody>\n",
       "</table>\n",
       "</div>"
      ],
      "text/plain": [
       "       gender    ssc_b   hsc_b     hsc_s   degree_t workex specialisation  \\\n",
       "count     215      215     215       215        215    215            215   \n",
       "unique      2        2       2         3          3      2              2   \n",
       "top         M  Central  Others  Commerce  Comm&Mgmt     No        Mkt&Fin   \n",
       "freq      139      116     131       113        145    141            120   \n",
       "\n",
       "        status  \n",
       "count      215  \n",
       "unique       2  \n",
       "top     Placed  \n",
       "freq       148  "
      ]
     },
     "execution_count": 6,
     "metadata": {},
     "output_type": "execute_result"
    }
   ],
   "source": [
    "categorical_vars = placement_df.select_dtypes(include=['object','bool'])\n",
    "categorical_vars.describe()"
   ]
  },
  {
   "cell_type": "code",
   "execution_count": 7,
   "id": "843732dc",
   "metadata": {
    "scrolled": true
   },
   "outputs": [
    {
     "data": {
      "text/html": [
       "<div>\n",
       "<style scoped>\n",
       "    .dataframe tbody tr th:only-of-type {\n",
       "        vertical-align: middle;\n",
       "    }\n",
       "\n",
       "    .dataframe tbody tr th {\n",
       "        vertical-align: top;\n",
       "    }\n",
       "\n",
       "    .dataframe thead th {\n",
       "        text-align: right;\n",
       "    }\n",
       "</style>\n",
       "<table border=\"1\" class=\"dataframe\">\n",
       "  <thead>\n",
       "    <tr style=\"text-align: right;\">\n",
       "      <th></th>\n",
       "      <th>sl_no</th>\n",
       "      <th>ssc_p</th>\n",
       "      <th>hsc_p</th>\n",
       "      <th>degree_p</th>\n",
       "      <th>etest_p</th>\n",
       "      <th>mba_p</th>\n",
       "      <th>salary</th>\n",
       "    </tr>\n",
       "  </thead>\n",
       "  <tbody>\n",
       "    <tr>\n",
       "      <th>count</th>\n",
       "      <td>215.000000</td>\n",
       "      <td>215.000000</td>\n",
       "      <td>215.000000</td>\n",
       "      <td>215.000000</td>\n",
       "      <td>215.000000</td>\n",
       "      <td>215.000000</td>\n",
       "      <td>148.000000</td>\n",
       "    </tr>\n",
       "    <tr>\n",
       "      <th>mean</th>\n",
       "      <td>108.000000</td>\n",
       "      <td>67.303395</td>\n",
       "      <td>66.333163</td>\n",
       "      <td>66.370186</td>\n",
       "      <td>72.100558</td>\n",
       "      <td>62.278186</td>\n",
       "      <td>288655.405405</td>\n",
       "    </tr>\n",
       "    <tr>\n",
       "      <th>std</th>\n",
       "      <td>62.209324</td>\n",
       "      <td>10.827205</td>\n",
       "      <td>10.897509</td>\n",
       "      <td>7.358743</td>\n",
       "      <td>13.275956</td>\n",
       "      <td>5.833385</td>\n",
       "      <td>93457.452420</td>\n",
       "    </tr>\n",
       "    <tr>\n",
       "      <th>min</th>\n",
       "      <td>1.000000</td>\n",
       "      <td>40.890000</td>\n",
       "      <td>37.000000</td>\n",
       "      <td>50.000000</td>\n",
       "      <td>50.000000</td>\n",
       "      <td>51.210000</td>\n",
       "      <td>200000.000000</td>\n",
       "    </tr>\n",
       "    <tr>\n",
       "      <th>25%</th>\n",
       "      <td>54.500000</td>\n",
       "      <td>60.600000</td>\n",
       "      <td>60.900000</td>\n",
       "      <td>61.000000</td>\n",
       "      <td>60.000000</td>\n",
       "      <td>57.945000</td>\n",
       "      <td>240000.000000</td>\n",
       "    </tr>\n",
       "    <tr>\n",
       "      <th>50%</th>\n",
       "      <td>108.000000</td>\n",
       "      <td>67.000000</td>\n",
       "      <td>65.000000</td>\n",
       "      <td>66.000000</td>\n",
       "      <td>71.000000</td>\n",
       "      <td>62.000000</td>\n",
       "      <td>265000.000000</td>\n",
       "    </tr>\n",
       "    <tr>\n",
       "      <th>75%</th>\n",
       "      <td>161.500000</td>\n",
       "      <td>75.700000</td>\n",
       "      <td>73.000000</td>\n",
       "      <td>72.000000</td>\n",
       "      <td>83.500000</td>\n",
       "      <td>66.255000</td>\n",
       "      <td>300000.000000</td>\n",
       "    </tr>\n",
       "    <tr>\n",
       "      <th>max</th>\n",
       "      <td>215.000000</td>\n",
       "      <td>89.400000</td>\n",
       "      <td>97.700000</td>\n",
       "      <td>91.000000</td>\n",
       "      <td>98.000000</td>\n",
       "      <td>77.890000</td>\n",
       "      <td>940000.000000</td>\n",
       "    </tr>\n",
       "  </tbody>\n",
       "</table>\n",
       "</div>"
      ],
      "text/plain": [
       "            sl_no       ssc_p       hsc_p    degree_p     etest_p       mba_p  \\\n",
       "count  215.000000  215.000000  215.000000  215.000000  215.000000  215.000000   \n",
       "mean   108.000000   67.303395   66.333163   66.370186   72.100558   62.278186   \n",
       "std     62.209324   10.827205   10.897509    7.358743   13.275956    5.833385   \n",
       "min      1.000000   40.890000   37.000000   50.000000   50.000000   51.210000   \n",
       "25%     54.500000   60.600000   60.900000   61.000000   60.000000   57.945000   \n",
       "50%    108.000000   67.000000   65.000000   66.000000   71.000000   62.000000   \n",
       "75%    161.500000   75.700000   73.000000   72.000000   83.500000   66.255000   \n",
       "max    215.000000   89.400000   97.700000   91.000000   98.000000   77.890000   \n",
       "\n",
       "              salary  \n",
       "count     148.000000  \n",
       "mean   288655.405405  \n",
       "std     93457.452420  \n",
       "min    200000.000000  \n",
       "25%    240000.000000  \n",
       "50%    265000.000000  \n",
       "75%    300000.000000  \n",
       "max    940000.000000  "
      ]
     },
     "execution_count": 7,
     "metadata": {},
     "output_type": "execute_result"
    }
   ],
   "source": [
    "placement_df.describe()"
   ]
  },
  {
   "cell_type": "markdown",
   "id": "a3be10b1",
   "metadata": {},
   "source": [
    "---"
   ]
  },
  {
   "cell_type": "markdown",
   "id": "729efafa",
   "metadata": {},
   "source": [
    "# Exploratory Data Analysis"
   ]
  },
  {
   "cell_type": "markdown",
   "id": "0af055da",
   "metadata": {},
   "source": [
    "---"
   ]
  },
  {
   "cell_type": "markdown",
   "id": "214e2801",
   "metadata": {},
   "source": [
    "#### Checking proportion of the data are Male and Female"
   ]
  },
  {
   "cell_type": "code",
   "execution_count": 8,
   "id": "45088803",
   "metadata": {
    "scrolled": true
   },
   "outputs": [
    {
     "data": {
      "text/plain": [
       "<AxesSubplot:ylabel='gender'>"
      ]
     },
     "execution_count": 8,
     "metadata": {},
     "output_type": "execute_result"
    },
    {
     "data": {
      "image/png": "[encoded data removed]",
      "text/plain": [
       "<Figure size 432x288 with 1 Axes>"
      ]
     },
     "metadata": {},
     "output_type": "display_data"
    }
   ],
   "source": [
    "placement_df['gender'].value_counts().plot(kind ='pie',autopct = '%.2f',explode=[0.05,0])"
   ]
  },
  {
   "cell_type": "markdown",
   "id": "0421ff27",
   "metadata": {},
   "source": [
    "In the dataset, there is 64.65% of male and 35.35% of female."
   ]
  },
  {
   "cell_type": "code",
   "execution_count": 9,
   "id": "8ccd8903",
   "metadata": {
    "scrolled": true
   },
   "outputs": [
    {
     "data": {
      "text/plain": [
       "<AxesSubplot:xlabel='gender', ylabel='count'>"
      ]
     },
     "execution_count": 9,
     "metadata": {},
     "output_type": "execute_result"
    },
    {
     "data": {
      "image/png": "[encoded data removed]",
      "text/plain": [
       "<Figure size 432x288 with 1 Axes>"
      ]
     },
     "metadata": {
      "needs_background": "light"
     },
     "output_type": "display_data"
    }
   ],
   "source": [
    "sns.countplot(data = placement_df, x = 'gender')"
   ]
  },
  {
   "cell_type": "markdown",
   "id": "854f2a2f",
   "metadata": {},
   "source": [
    "#### Gender proportion\n",
    "\n",
    " * Male = 65%\n",
    " * Female = 35%\n",
    " \n",
    "In the dataset, there are almost two times as many records for male students as for female students."
   ]
  },
  {
   "cell_type": "markdown",
   "id": "b5dfbd49",
   "metadata": {},
   "source": [
    "#### Checking student distribution in 3 streams in 12th Grade (hsc_s)"
   ]
  },
  {
   "cell_type": "code",
   "execution_count": 10,
   "id": "99291c08",
   "metadata": {},
   "outputs": [
    {
     "data": {
      "text/plain": [
       "<AxesSubplot:ylabel='hsc_s'>"
      ]
     },
     "execution_count": 10,
     "metadata": {},
     "output_type": "execute_result"
    },
    {
     "data": {
      "image/png": "[encoded data removed]",
      "text/plain": [
       "<Figure size 432x288 with 1 Axes>"
      ]
     },
     "metadata": {},
     "output_type": "display_data"
    }
   ],
   "source": [
    "placement_df['hsc_s'].value_counts().plot(kind ='pie',autopct = '%.2f',explode=[0.05, 0.05, 0.05])"
   ]
  },
  {
   "cell_type": "markdown",
   "id": "819ccffc",
   "metadata": {},
   "source": [
    "#### Student distribution 3 streams in 12th Grade\n",
    "\n",
    " * Commerce = 52.56%\n",
    " * Science = 42.33% \n",
    " * Arts = 5.12%"
   ]
  },
  {
   "cell_type": "markdown",
   "id": "6ffafe1d",
   "metadata": {},
   "source": [
    "#### Checking student distribution in under graduate degree"
   ]
  },
  {
   "cell_type": "code",
   "execution_count": 11,
   "id": "fb677f4a",
   "metadata": {
    "scrolled": true
   },
   "outputs": [
    {
     "data": {
      "text/plain": [
       "<AxesSubplot:ylabel='degree_t'>"
      ]
     },
     "execution_count": 11,
     "metadata": {},
     "output_type": "execute_result"
    },
    {
     "data": {
      "image/png": "[encoded data removed]",
      "text/plain": [
       "<Figure size 432x288 with 1 Axes>"
      ]
     },
     "metadata": {},
     "output_type": "display_data"
    }
   ],
   "source": [
    "placement_df['degree_t'].value_counts().plot(kind ='pie',autopct = '%.2f',explode=[0.05, 0.05, 0.05])"
   ]
  },
  {
   "cell_type": "markdown",
   "id": "21839145",
   "metadata": {},
   "source": [
    "#### Student distribution Comm&Mgmt, Sci&Tech and others in under graduate degree\n",
    "\n",
    " * Commerce and Management = 67.44%\n",
    " * Science and Technology = 27.44% \n",
    " * Others = 5.12%"
   ]
  },
  {
   "cell_type": "markdown",
   "id": "cd4d1876",
   "metadata": {},
   "source": [
    "#### Checking student distribution by gender in 3 streams in 12th Grade (hsc_s)"
   ]
  },
  {
   "cell_type": "code",
   "execution_count": 12,
   "id": "0e84ddab",
   "metadata": {},
   "outputs": [
    {
     "data": {
      "text/plain": [
       "<AxesSubplot:xlabel='count', ylabel='hsc_s'>"
      ]
     },
     "execution_count": 12,
     "metadata": {},
     "output_type": "execute_result"
    },
    {
     "data": {
      "image/png": "[encoded data removed]",
      "text/plain": [
       "<Figure size 432x288 with 1 Axes>"
      ]
     },
     "metadata": {
      "needs_background": "light"
     },
     "output_type": "display_data"
    }
   ],
   "source": [
    "sns.countplot(y = 'hsc_s',hue = placement_df['gender'], palette = \"Set1\", data = placement_df)"
   ]
  },
  {
   "cell_type": "markdown",
   "id": "9b34b2b1",
   "metadata": {},
   "source": [
    "#### Distribution by gender in 3 streams in 12th Grade\n",
    "\n",
    " * Male students in Commerce almost twice the Female students in Commerce\n",
    " * Male students in Science twice the Female students in Science\n",
    " * Female in Arts > Male in Arts however, the numbers are not drastically different\n"
   ]
  },
  {
   "cell_type": "markdown",
   "id": "83959b6d",
   "metadata": {},
   "source": [
    "---"
   ]
  },
  {
   "cell_type": "markdown",
   "id": "9443db7b",
   "metadata": {},
   "source": [
    "---"
   ]
  },
  {
   "cell_type": "markdown",
   "id": "fd8b2290",
   "metadata": {},
   "source": [
    "## Data Cleaning"
   ]
  },
  {
   "cell_type": "markdown",
   "id": "85b1e270",
   "metadata": {},
   "source": [
    "---"
   ]
  },
  {
   "cell_type": "code",
   "execution_count": 13,
   "id": "b171f8ea",
   "metadata": {},
   "outputs": [],
   "source": [
    "placement_df = placement_df.drop(columns=['sl_no'])"
   ]
  },
  {
   "cell_type": "markdown",
   "id": "dfcd3747",
   "metadata": {},
   "source": [
    "#### Checking and handling null values"
   ]
  },
  {
   "cell_type": "code",
   "execution_count": 14,
   "id": "3776d765",
   "metadata": {},
   "outputs": [
    {
     "data": {
      "text/plain": [
       "gender             0\n",
       "ssc_p              0\n",
       "ssc_b              0\n",
       "hsc_p              0\n",
       "hsc_b              0\n",
       "hsc_s              0\n",
       "degree_p           0\n",
       "degree_t           0\n",
       "workex             0\n",
       "etest_p            0\n",
       "specialisation     0\n",
       "mba_p              0\n",
       "status             0\n",
       "salary            67\n",
       "dtype: int64"
      ]
     },
     "execution_count": 14,
     "metadata": {},
     "output_type": "execute_result"
    }
   ],
   "source": [
    "placement_df.isna().sum()"
   ]
  },
  {
   "cell_type": "markdown",
   "id": "44afcc95",
   "metadata": {},
   "source": [
    "Except for salary with 67 null entries, none of the columns have null values"
   ]
  },
  {
   "cell_type": "markdown",
   "id": "d66692e4",
   "metadata": {},
   "source": [
    "#### Checking data with null values to figure out a way to fill them"
   ]
  },
  {
   "cell_type": "code",
   "execution_count": 15,
   "id": "369a6a92",
   "metadata": {},
   "outputs": [
    {
     "data": {
      "text/html": [
       "<div>\n",
       "<style scoped>\n",
       "    .dataframe tbody tr th:only-of-type {\n",
       "        vertical-align: middle;\n",
       "    }\n",
       "\n",
       "    .dataframe tbody tr th {\n",
       "        vertical-align: top;\n",
       "    }\n",
       "\n",
       "    .dataframe thead th {\n",
       "        text-align: right;\n",
       "    }\n",
       "</style>\n",
       "<table border=\"1\" class=\"dataframe\">\n",
       "  <thead>\n",
       "    <tr style=\"text-align: right;\">\n",
       "      <th></th>\n",
       "      <th>gender</th>\n",
       "      <th>ssc_p</th>\n",
       "      <th>ssc_b</th>\n",
       "      <th>hsc_p</th>\n",
       "      <th>hsc_b</th>\n",
       "      <th>hsc_s</th>\n",
       "      <th>degree_p</th>\n",
       "      <th>degree_t</th>\n",
       "      <th>workex</th>\n",
       "      <th>etest_p</th>\n",
       "      <th>specialisation</th>\n",
       "      <th>mba_p</th>\n",
       "      <th>status</th>\n",
       "      <th>salary</th>\n",
       "    </tr>\n",
       "  </thead>\n",
       "  <tbody>\n",
       "    <tr>\n",
       "      <th>3</th>\n",
       "      <td>M</td>\n",
       "      <td>56.0</td>\n",
       "      <td>Central</td>\n",
       "      <td>52.0</td>\n",
       "      <td>Central</td>\n",
       "      <td>Science</td>\n",
       "      <td>52.00</td>\n",
       "      <td>Sci&amp;Tech</td>\n",
       "      <td>No</td>\n",
       "      <td>66.00</td>\n",
       "      <td>Mkt&amp;HR</td>\n",
       "      <td>59.43</td>\n",
       "      <td>Not Placed</td>\n",
       "      <td>NaN</td>\n",
       "    </tr>\n",
       "    <tr>\n",
       "      <th>5</th>\n",
       "      <td>M</td>\n",
       "      <td>55.0</td>\n",
       "      <td>Others</td>\n",
       "      <td>49.8</td>\n",
       "      <td>Others</td>\n",
       "      <td>Science</td>\n",
       "      <td>67.25</td>\n",
       "      <td>Sci&amp;Tech</td>\n",
       "      <td>Yes</td>\n",
       "      <td>55.00</td>\n",
       "      <td>Mkt&amp;Fin</td>\n",
       "      <td>51.58</td>\n",
       "      <td>Not Placed</td>\n",
       "      <td>NaN</td>\n",
       "    </tr>\n",
       "    <tr>\n",
       "      <th>6</th>\n",
       "      <td>F</td>\n",
       "      <td>46.0</td>\n",
       "      <td>Others</td>\n",
       "      <td>49.2</td>\n",
       "      <td>Others</td>\n",
       "      <td>Commerce</td>\n",
       "      <td>79.00</td>\n",
       "      <td>Comm&amp;Mgmt</td>\n",
       "      <td>No</td>\n",
       "      <td>74.28</td>\n",
       "      <td>Mkt&amp;Fin</td>\n",
       "      <td>53.29</td>\n",
       "      <td>Not Placed</td>\n",
       "      <td>NaN</td>\n",
       "    </tr>\n",
       "    <tr>\n",
       "      <th>9</th>\n",
       "      <td>M</td>\n",
       "      <td>58.0</td>\n",
       "      <td>Central</td>\n",
       "      <td>70.0</td>\n",
       "      <td>Central</td>\n",
       "      <td>Commerce</td>\n",
       "      <td>61.00</td>\n",
       "      <td>Comm&amp;Mgmt</td>\n",
       "      <td>No</td>\n",
       "      <td>54.00</td>\n",
       "      <td>Mkt&amp;Fin</td>\n",
       "      <td>52.21</td>\n",
       "      <td>Not Placed</td>\n",
       "      <td>NaN</td>\n",
       "    </tr>\n",
       "    <tr>\n",
       "      <th>12</th>\n",
       "      <td>F</td>\n",
       "      <td>47.0</td>\n",
       "      <td>Central</td>\n",
       "      <td>55.0</td>\n",
       "      <td>Others</td>\n",
       "      <td>Science</td>\n",
       "      <td>65.00</td>\n",
       "      <td>Comm&amp;Mgmt</td>\n",
       "      <td>No</td>\n",
       "      <td>62.00</td>\n",
       "      <td>Mkt&amp;HR</td>\n",
       "      <td>65.04</td>\n",
       "      <td>Not Placed</td>\n",
       "      <td>NaN</td>\n",
       "    </tr>\n",
       "    <tr>\n",
       "      <th>...</th>\n",
       "      <td>...</td>\n",
       "      <td>...</td>\n",
       "      <td>...</td>\n",
       "      <td>...</td>\n",
       "      <td>...</td>\n",
       "      <td>...</td>\n",
       "      <td>...</td>\n",
       "      <td>...</td>\n",
       "      <td>...</td>\n",
       "      <td>...</td>\n",
       "      <td>...</td>\n",
       "      <td>...</td>\n",
       "      <td>...</td>\n",
       "      <td>...</td>\n",
       "    </tr>\n",
       "    <tr>\n",
       "      <th>198</th>\n",
       "      <td>F</td>\n",
       "      <td>67.0</td>\n",
       "      <td>Central</td>\n",
       "      <td>70.0</td>\n",
       "      <td>Central</td>\n",
       "      <td>Commerce</td>\n",
       "      <td>65.00</td>\n",
       "      <td>Others</td>\n",
       "      <td>No</td>\n",
       "      <td>88.00</td>\n",
       "      <td>Mkt&amp;HR</td>\n",
       "      <td>71.96</td>\n",
       "      <td>Not Placed</td>\n",
       "      <td>NaN</td>\n",
       "    </tr>\n",
       "    <tr>\n",
       "      <th>201</th>\n",
       "      <td>M</td>\n",
       "      <td>54.2</td>\n",
       "      <td>Central</td>\n",
       "      <td>63.0</td>\n",
       "      <td>Others</td>\n",
       "      <td>Science</td>\n",
       "      <td>58.00</td>\n",
       "      <td>Comm&amp;Mgmt</td>\n",
       "      <td>No</td>\n",
       "      <td>79.00</td>\n",
       "      <td>Mkt&amp;HR</td>\n",
       "      <td>58.44</td>\n",
       "      <td>Not Placed</td>\n",
       "      <td>NaN</td>\n",
       "    </tr>\n",
       "    <tr>\n",
       "      <th>206</th>\n",
       "      <td>M</td>\n",
       "      <td>41.0</td>\n",
       "      <td>Central</td>\n",
       "      <td>42.0</td>\n",
       "      <td>Central</td>\n",
       "      <td>Science</td>\n",
       "      <td>60.00</td>\n",
       "      <td>Comm&amp;Mgmt</td>\n",
       "      <td>No</td>\n",
       "      <td>97.00</td>\n",
       "      <td>Mkt&amp;Fin</td>\n",
       "      <td>53.39</td>\n",
       "      <td>Not Placed</td>\n",
       "      <td>NaN</td>\n",
       "    </tr>\n",
       "    <tr>\n",
       "      <th>208</th>\n",
       "      <td>F</td>\n",
       "      <td>43.0</td>\n",
       "      <td>Central</td>\n",
       "      <td>60.0</td>\n",
       "      <td>Others</td>\n",
       "      <td>Science</td>\n",
       "      <td>65.00</td>\n",
       "      <td>Comm&amp;Mgmt</td>\n",
       "      <td>No</td>\n",
       "      <td>92.66</td>\n",
       "      <td>Mkt&amp;HR</td>\n",
       "      <td>62.92</td>\n",
       "      <td>Not Placed</td>\n",
       "      <td>NaN</td>\n",
       "    </tr>\n",
       "    <tr>\n",
       "      <th>214</th>\n",
       "      <td>M</td>\n",
       "      <td>62.0</td>\n",
       "      <td>Central</td>\n",
       "      <td>58.0</td>\n",
       "      <td>Others</td>\n",
       "      <td>Science</td>\n",
       "      <td>53.00</td>\n",
       "      <td>Comm&amp;Mgmt</td>\n",
       "      <td>No</td>\n",
       "      <td>89.00</td>\n",
       "      <td>Mkt&amp;HR</td>\n",
       "      <td>60.22</td>\n",
       "      <td>Not Placed</td>\n",
       "      <td>NaN</td>\n",
       "    </tr>\n",
       "  </tbody>\n",
       "</table>\n",
       "<p>67 rows × 14 columns</p>\n",
       "</div>"
      ],
      "text/plain": [
       "    gender  ssc_p    ssc_b  hsc_p    hsc_b     hsc_s  degree_p   degree_t  \\\n",
       "3        M   56.0  Central   52.0  Central   Science     52.00   Sci&Tech   \n",
       "5        M   55.0   Others   49.8   Others   Science     67.25   Sci&Tech   \n",
       "6        F   46.0   Others   49.2   Others  Commerce     79.00  Comm&Mgmt   \n",
       "9        M   58.0  Central   70.0  Central  Commerce     61.00  Comm&Mgmt   \n",
       "12       F   47.0  Central   55.0   Others   Science     65.00  Comm&Mgmt   \n",
       "..     ...    ...      ...    ...      ...       ...       ...        ...   \n",
       "198      F   67.0  Central   70.0  Central  Commerce     65.00     Others   \n",
       "201      M   54.2  Central   63.0   Others   Science     58.00  Comm&Mgmt   \n",
       "206      M   41.0  Central   42.0  Central   Science     60.00  Comm&Mgmt   \n",
       "208      F   43.0  Central   60.0   Others   Science     65.00  Comm&Mgmt   \n",
       "214      M   62.0  Central   58.0   Others   Science     53.00  Comm&Mgmt   \n",
       "\n",
       "    workex  etest_p specialisation  mba_p      status  salary  \n",
       "3       No    66.00         Mkt&HR  59.43  Not Placed     NaN  \n",
       "5      Yes    55.00        Mkt&Fin  51.58  Not Placed     NaN  \n",
       "6       No    74.28        Mkt&Fin  53.29  Not Placed     NaN  \n",
       "9       No    54.00        Mkt&Fin  52.21  Not Placed     NaN  \n",
       "12      No    62.00         Mkt&HR  65.04  Not Placed     NaN  \n",
       "..     ...      ...            ...    ...         ...     ...  \n",
       "198     No    88.00         Mkt&HR  71.96  Not Placed     NaN  \n",
       "201     No    79.00         Mkt&HR  58.44  Not Placed     NaN  \n",
       "206     No    97.00        Mkt&Fin  53.39  Not Placed     NaN  \n",
       "208     No    92.66         Mkt&HR  62.92  Not Placed     NaN  \n",
       "214     No    89.00         Mkt&HR  60.22  Not Placed     NaN  \n",
       "\n",
       "[67 rows x 14 columns]"
      ]
     },
     "execution_count": 15,
     "metadata": {},
     "output_type": "execute_result"
    }
   ],
   "source": [
    "null_rows = placement_df[placement_df.isnull().any(axis=1)]\n",
    "null_rows"
   ]
  },
  {
   "cell_type": "markdown",
   "id": "5a33b41b",
   "metadata": {},
   "source": [
    "#### Filling null values of salary with 0 because the data with null values is all of the people whose status is not placed"
   ]
  },
  {
   "cell_type": "code",
   "execution_count": 16,
   "id": "990fc271",
   "metadata": {},
   "outputs": [
    {
     "name": "stdout",
     "output_type": "stream",
     "text": [
      "null values in salary column: 0\n"
     ]
    }
   ],
   "source": [
    "placement_df['salary'].fillna(0, inplace=True)\n",
    "\n",
    "print('null values in salary column:',placement_df['salary'].isnull().sum())"
   ]
  },
  {
   "cell_type": "code",
   "execution_count": 17,
   "id": "0ac3ff9b",
   "metadata": {},
   "outputs": [
    {
     "data": {
      "text/plain": [
       "gender            0\n",
       "ssc_p             0\n",
       "ssc_b             0\n",
       "hsc_p             0\n",
       "hsc_b             0\n",
       "hsc_s             0\n",
       "degree_p          0\n",
       "degree_t          0\n",
       "workex            0\n",
       "etest_p           0\n",
       "specialisation    0\n",
       "mba_p             0\n",
       "status            0\n",
       "salary            0\n",
       "dtype: int64"
      ]
     },
     "execution_count": 17,
     "metadata": {},
     "output_type": "execute_result"
    }
   ],
   "source": [
    "placement_df.isna().sum()"
   ]
  },
  {
   "cell_type": "markdown",
   "id": "949af350",
   "metadata": {},
   "source": [
    "---"
   ]
  },
  {
   "cell_type": "markdown",
   "id": "e9c47777",
   "metadata": {},
   "source": [
    "#### Changing Workex column's value to True and False"
   ]
  },
  {
   "cell_type": "markdown",
   "id": "0e68bde1",
   "metadata": {},
   "source": [
    "Workex column stands for \"work experience,\" and the values for the columns are \"Yes\" or \"No.\" However, we can change the values of \"Yes\" to 1 and \"No\" to 0 instead."
   ]
  },
  {
   "cell_type": "code",
   "execution_count": 18,
   "id": "280b0191",
   "metadata": {},
   "outputs": [],
   "source": [
    "placement_df['workex'].replace(['Yes','No'], [True,False], inplace=True)"
   ]
  },
  {
   "cell_type": "code",
   "execution_count": 19,
   "id": "432088ca",
   "metadata": {
    "scrolled": false
   },
   "outputs": [
    {
     "data": {
      "text/html": [
       "<div>\n",
       "<style scoped>\n",
       "    .dataframe tbody tr th:only-of-type {\n",
       "        vertical-align: middle;\n",
       "    }\n",
       "\n",
       "    .dataframe tbody tr th {\n",
       "        vertical-align: top;\n",
       "    }\n",
       "\n",
       "    .dataframe thead th {\n",
       "        text-align: right;\n",
       "    }\n",
       "</style>\n",
       "<table border=\"1\" class=\"dataframe\">\n",
       "  <thead>\n",
       "    <tr style=\"text-align: right;\">\n",
       "      <th></th>\n",
       "      <th>workex</th>\n",
       "    </tr>\n",
       "  </thead>\n",
       "  <tbody>\n",
       "    <tr>\n",
       "      <th>0</th>\n",
       "      <td>False</td>\n",
       "    </tr>\n",
       "    <tr>\n",
       "      <th>1</th>\n",
       "      <td>True</td>\n",
       "    </tr>\n",
       "    <tr>\n",
       "      <th>2</th>\n",
       "      <td>False</td>\n",
       "    </tr>\n",
       "    <tr>\n",
       "      <th>3</th>\n",
       "      <td>False</td>\n",
       "    </tr>\n",
       "    <tr>\n",
       "      <th>4</th>\n",
       "      <td>False</td>\n",
       "    </tr>\n",
       "    <tr>\n",
       "      <th>...</th>\n",
       "      <td>...</td>\n",
       "    </tr>\n",
       "    <tr>\n",
       "      <th>210</th>\n",
       "      <td>False</td>\n",
       "    </tr>\n",
       "    <tr>\n",
       "      <th>211</th>\n",
       "      <td>False</td>\n",
       "    </tr>\n",
       "    <tr>\n",
       "      <th>212</th>\n",
       "      <td>True</td>\n",
       "    </tr>\n",
       "    <tr>\n",
       "      <th>213</th>\n",
       "      <td>False</td>\n",
       "    </tr>\n",
       "    <tr>\n",
       "      <th>214</th>\n",
       "      <td>False</td>\n",
       "    </tr>\n",
       "  </tbody>\n",
       "</table>\n",
       "<p>215 rows × 1 columns</p>\n",
       "</div>"
      ],
      "text/plain": [
       "     workex\n",
       "0     False\n",
       "1      True\n",
       "2     False\n",
       "3     False\n",
       "4     False\n",
       "..      ...\n",
       "210   False\n",
       "211   False\n",
       "212    True\n",
       "213   False\n",
       "214   False\n",
       "\n",
       "[215 rows x 1 columns]"
      ]
     },
     "execution_count": 19,
     "metadata": {},
     "output_type": "execute_result"
    }
   ],
   "source": [
    "placement_df[['workex']]"
   ]
  },
  {
   "cell_type": "markdown",
   "id": "f95c3493",
   "metadata": {},
   "source": [
    "#### Changing Status column's value to True and False"
   ]
  },
  {
   "cell_type": "markdown",
   "id": "e919640a",
   "metadata": {},
   "source": [
    "The \"Placed\" or \"Not Placed\" values for the columns in the Status column indicate whether or not the individual has been placed according to the data. The values of \"Placed\" and \"Not Placed\" can, however, be changed to 1 and 0, respectively."
   ]
  },
  {
   "cell_type": "code",
   "execution_count": 20,
   "id": "aa5b9bba",
   "metadata": {},
   "outputs": [],
   "source": [
    "placement_df['status'].replace(['Placed', 'Not Placed'], [True,False], inplace=True)"
   ]
  },
  {
   "cell_type": "markdown",
   "id": "1e2ba19b",
   "metadata": {},
   "source": [
    "#### Demonstration of removing outliers from salary column"
   ]
  },
  {
   "cell_type": "code",
   "execution_count": 21,
   "id": "c86e93d6",
   "metadata": {},
   "outputs": [],
   "source": [
    "Q1 = placement_df['salary'].quantile(0.25)\n",
    "Q3 = placement_df['salary'].quantile(0.75)\n",
    "IQR = Q3 - Q1    #IQR is interquartile range. \n",
    "\n",
    "filter = (placement_df['salary'] >= Q1 - 1.5 * IQR) & (placement_df['salary'] <= Q3 + 1.5 *IQR)\n",
    "placement_df_filtered=placement_df.loc[filter]"
   ]
  },
  {
   "cell_type": "code",
   "execution_count": 22,
   "id": "389bf5bc",
   "metadata": {
    "scrolled": true
   },
   "outputs": [
    {
     "data": {
      "text/html": [
       "<div>\n",
       "<style scoped>\n",
       "    .dataframe tbody tr th:only-of-type {\n",
       "        vertical-align: middle;\n",
       "    }\n",
       "\n",
       "    .dataframe tbody tr th {\n",
       "        vertical-align: top;\n",
       "    }\n",
       "\n",
       "    .dataframe thead th {\n",
       "        text-align: right;\n",
       "    }\n",
       "</style>\n",
       "<table border=\"1\" class=\"dataframe\">\n",
       "  <thead>\n",
       "    <tr style=\"text-align: right;\">\n",
       "      <th></th>\n",
       "      <th>gender</th>\n",
       "      <th>ssc_p</th>\n",
       "      <th>ssc_b</th>\n",
       "      <th>hsc_p</th>\n",
       "      <th>hsc_b</th>\n",
       "      <th>hsc_s</th>\n",
       "      <th>degree_p</th>\n",
       "      <th>degree_t</th>\n",
       "      <th>workex</th>\n",
       "      <th>etest_p</th>\n",
       "      <th>specialisation</th>\n",
       "      <th>mba_p</th>\n",
       "      <th>status</th>\n",
       "      <th>salary</th>\n",
       "    </tr>\n",
       "  </thead>\n",
       "  <tbody>\n",
       "    <tr>\n",
       "      <th>0</th>\n",
       "      <td>M</td>\n",
       "      <td>67.00</td>\n",
       "      <td>Others</td>\n",
       "      <td>91.00</td>\n",
       "      <td>Others</td>\n",
       "      <td>Commerce</td>\n",
       "      <td>58.00</td>\n",
       "      <td>Sci&amp;Tech</td>\n",
       "      <td>False</td>\n",
       "      <td>55.0</td>\n",
       "      <td>Mkt&amp;HR</td>\n",
       "      <td>58.80</td>\n",
       "      <td>True</td>\n",
       "      <td>270000.0</td>\n",
       "    </tr>\n",
       "    <tr>\n",
       "      <th>1</th>\n",
       "      <td>M</td>\n",
       "      <td>79.33</td>\n",
       "      <td>Central</td>\n",
       "      <td>78.33</td>\n",
       "      <td>Others</td>\n",
       "      <td>Science</td>\n",
       "      <td>77.48</td>\n",
       "      <td>Sci&amp;Tech</td>\n",
       "      <td>True</td>\n",
       "      <td>86.5</td>\n",
       "      <td>Mkt&amp;Fin</td>\n",
       "      <td>66.28</td>\n",
       "      <td>True</td>\n",
       "      <td>200000.0</td>\n",
       "    </tr>\n",
       "    <tr>\n",
       "      <th>2</th>\n",
       "      <td>M</td>\n",
       "      <td>65.00</td>\n",
       "      <td>Central</td>\n",
       "      <td>68.00</td>\n",
       "      <td>Central</td>\n",
       "      <td>Arts</td>\n",
       "      <td>64.00</td>\n",
       "      <td>Comm&amp;Mgmt</td>\n",
       "      <td>False</td>\n",
       "      <td>75.0</td>\n",
       "      <td>Mkt&amp;Fin</td>\n",
       "      <td>57.80</td>\n",
       "      <td>True</td>\n",
       "      <td>250000.0</td>\n",
       "    </tr>\n",
       "    <tr>\n",
       "      <th>3</th>\n",
       "      <td>M</td>\n",
       "      <td>56.00</td>\n",
       "      <td>Central</td>\n",
       "      <td>52.00</td>\n",
       "      <td>Central</td>\n",
       "      <td>Science</td>\n",
       "      <td>52.00</td>\n",
       "      <td>Sci&amp;Tech</td>\n",
       "      <td>False</td>\n",
       "      <td>66.0</td>\n",
       "      <td>Mkt&amp;HR</td>\n",
       "      <td>59.43</td>\n",
       "      <td>False</td>\n",
       "      <td>0.0</td>\n",
       "    </tr>\n",
       "    <tr>\n",
       "      <th>4</th>\n",
       "      <td>M</td>\n",
       "      <td>85.80</td>\n",
       "      <td>Central</td>\n",
       "      <td>73.60</td>\n",
       "      <td>Central</td>\n",
       "      <td>Commerce</td>\n",
       "      <td>73.30</td>\n",
       "      <td>Comm&amp;Mgmt</td>\n",
       "      <td>False</td>\n",
       "      <td>96.8</td>\n",
       "      <td>Mkt&amp;Fin</td>\n",
       "      <td>55.50</td>\n",
       "      <td>True</td>\n",
       "      <td>425000.0</td>\n",
       "    </tr>\n",
       "    <tr>\n",
       "      <th>...</th>\n",
       "      <td>...</td>\n",
       "      <td>...</td>\n",
       "      <td>...</td>\n",
       "      <td>...</td>\n",
       "      <td>...</td>\n",
       "      <td>...</td>\n",
       "      <td>...</td>\n",
       "      <td>...</td>\n",
       "      <td>...</td>\n",
       "      <td>...</td>\n",
       "      <td>...</td>\n",
       "      <td>...</td>\n",
       "      <td>...</td>\n",
       "      <td>...</td>\n",
       "    </tr>\n",
       "    <tr>\n",
       "      <th>210</th>\n",
       "      <td>M</td>\n",
       "      <td>80.60</td>\n",
       "      <td>Others</td>\n",
       "      <td>82.00</td>\n",
       "      <td>Others</td>\n",
       "      <td>Commerce</td>\n",
       "      <td>77.60</td>\n",
       "      <td>Comm&amp;Mgmt</td>\n",
       "      <td>False</td>\n",
       "      <td>91.0</td>\n",
       "      <td>Mkt&amp;Fin</td>\n",
       "      <td>74.49</td>\n",
       "      <td>True</td>\n",
       "      <td>400000.0</td>\n",
       "    </tr>\n",
       "    <tr>\n",
       "      <th>211</th>\n",
       "      <td>M</td>\n",
       "      <td>58.00</td>\n",
       "      <td>Others</td>\n",
       "      <td>60.00</td>\n",
       "      <td>Others</td>\n",
       "      <td>Science</td>\n",
       "      <td>72.00</td>\n",
       "      <td>Sci&amp;Tech</td>\n",
       "      <td>False</td>\n",
       "      <td>74.0</td>\n",
       "      <td>Mkt&amp;Fin</td>\n",
       "      <td>53.62</td>\n",
       "      <td>True</td>\n",
       "      <td>275000.0</td>\n",
       "    </tr>\n",
       "    <tr>\n",
       "      <th>212</th>\n",
       "      <td>M</td>\n",
       "      <td>67.00</td>\n",
       "      <td>Others</td>\n",
       "      <td>67.00</td>\n",
       "      <td>Others</td>\n",
       "      <td>Commerce</td>\n",
       "      <td>73.00</td>\n",
       "      <td>Comm&amp;Mgmt</td>\n",
       "      <td>True</td>\n",
       "      <td>59.0</td>\n",
       "      <td>Mkt&amp;Fin</td>\n",
       "      <td>69.72</td>\n",
       "      <td>True</td>\n",
       "      <td>295000.0</td>\n",
       "    </tr>\n",
       "    <tr>\n",
       "      <th>213</th>\n",
       "      <td>F</td>\n",
       "      <td>74.00</td>\n",
       "      <td>Others</td>\n",
       "      <td>66.00</td>\n",
       "      <td>Others</td>\n",
       "      <td>Commerce</td>\n",
       "      <td>58.00</td>\n",
       "      <td>Comm&amp;Mgmt</td>\n",
       "      <td>False</td>\n",
       "      <td>70.0</td>\n",
       "      <td>Mkt&amp;HR</td>\n",
       "      <td>60.23</td>\n",
       "      <td>True</td>\n",
       "      <td>204000.0</td>\n",
       "    </tr>\n",
       "    <tr>\n",
       "      <th>214</th>\n",
       "      <td>M</td>\n",
       "      <td>62.00</td>\n",
       "      <td>Central</td>\n",
       "      <td>58.00</td>\n",
       "      <td>Others</td>\n",
       "      <td>Science</td>\n",
       "      <td>53.00</td>\n",
       "      <td>Comm&amp;Mgmt</td>\n",
       "      <td>False</td>\n",
       "      <td>89.0</td>\n",
       "      <td>Mkt&amp;HR</td>\n",
       "      <td>60.22</td>\n",
       "      <td>False</td>\n",
       "      <td>0.0</td>\n",
       "    </tr>\n",
       "  </tbody>\n",
       "</table>\n",
       "<p>214 rows × 14 columns</p>\n",
       "</div>"
      ],
      "text/plain": [
       "    gender  ssc_p    ssc_b  hsc_p    hsc_b     hsc_s  degree_p   degree_t  \\\n",
       "0        M  67.00   Others  91.00   Others  Commerce     58.00   Sci&Tech   \n",
       "1        M  79.33  Central  78.33   Others   Science     77.48   Sci&Tech   \n",
       "2        M  65.00  Central  68.00  Central      Arts     64.00  Comm&Mgmt   \n",
       "3        M  56.00  Central  52.00  Central   Science     52.00   Sci&Tech   \n",
       "4        M  85.80  Central  73.60  Central  Commerce     73.30  Comm&Mgmt   \n",
       "..     ...    ...      ...    ...      ...       ...       ...        ...   \n",
       "210      M  80.60   Others  82.00   Others  Commerce     77.60  Comm&Mgmt   \n",
       "211      M  58.00   Others  60.00   Others   Science     72.00   Sci&Tech   \n",
       "212      M  67.00   Others  67.00   Others  Commerce     73.00  Comm&Mgmt   \n",
       "213      F  74.00   Others  66.00   Others  Commerce     58.00  Comm&Mgmt   \n",
       "214      M  62.00  Central  58.00   Others   Science     53.00  Comm&Mgmt   \n",
       "\n",
       "     workex  etest_p specialisation  mba_p  status    salary  \n",
       "0     False     55.0         Mkt&HR  58.80    True  270000.0  \n",
       "1      True     86.5        Mkt&Fin  66.28    True  200000.0  \n",
       "2     False     75.0        Mkt&Fin  57.80    True  250000.0  \n",
       "3     False     66.0         Mkt&HR  59.43   False       0.0  \n",
       "4     False     96.8        Mkt&Fin  55.50    True  425000.0  \n",
       "..      ...      ...            ...    ...     ...       ...  \n",
       "210   False     91.0        Mkt&Fin  74.49    True  400000.0  \n",
       "211   False     74.0        Mkt&Fin  53.62    True  275000.0  \n",
       "212    True     59.0        Mkt&Fin  69.72    True  295000.0  \n",
       "213   False     70.0         Mkt&HR  60.23    True  204000.0  \n",
       "214   False     89.0         Mkt&HR  60.22   False       0.0  \n",
       "\n",
       "[214 rows x 14 columns]"
      ]
     },
     "execution_count": 22,
     "metadata": {},
     "output_type": "execute_result"
    }
   ],
   "source": [
    "placement_df_filtered"
   ]
  },
  {
   "cell_type": "code",
   "execution_count": 23,
   "id": "1a4dc2ae",
   "metadata": {},
   "outputs": [
    {
     "data": {
      "text/plain": [
       "Text(0.5, 1.0, 'After removing outliers(salary)')"
      ]
     },
     "execution_count": 23,
     "metadata": {},
     "output_type": "execute_result"
    },
    {
     "data": {
      "image/png": "[encoded data removed]",
      "text/plain": [
       "<Figure size 1080x360 with 2 Axes>"
      ]
     },
     "metadata": {
      "needs_background": "light"
     },
     "output_type": "display_data"
    }
   ],
   "source": [
    "plt.figure(figsize = (15, 5))\n",
    "plt.style.use('seaborn-white')\n",
    "ax=plt.subplot(121)\n",
    "plt.boxplot(placement_df['salary'])\n",
    "ax.set_title('Before removing outliers(salary)')\n",
    "ax=plt.subplot(122)\n",
    "plt.boxplot(placement_df_filtered['salary'])\n",
    "ax.set_title('After removing outliers(salary)')"
   ]
  },
  {
   "cell_type": "code",
   "execution_count": 24,
   "id": "6c205bbe",
   "metadata": {},
   "outputs": [
    {
     "data": {
      "text/plain": [
       "<AxesSubplot:>"
      ]
     },
     "execution_count": 24,
     "metadata": {},
     "output_type": "execute_result"
    },
    {
     "data": {
      "image/png": "[encoded data removed]",
      "text/plain": [
       "<Figure size 432x288 with 2 Axes>"
      ]
     },
     "metadata": {},
     "output_type": "display_data"
    }
   ],
   "source": [
    "sns.heatmap(placement_df.corr(), annot=True)"
   ]
  },
  {
   "cell_type": "markdown",
   "id": "0cc2f4b9",
   "metadata": {},
   "source": [
    "#### Convert the degree_t column's value into different column and append value as 0 if the row does not has that degree and 1 if the row has that degree"
   ]
  },
  {
   "cell_type": "code",
   "execution_count": 25,
   "id": "beb0c564",
   "metadata": {
    "scrolled": true
   },
   "outputs": [
    {
     "data": {
      "text/html": [
       "<div>\n",
       "<style scoped>\n",
       "    .dataframe tbody tr th:only-of-type {\n",
       "        vertical-align: middle;\n",
       "    }\n",
       "\n",
       "    .dataframe tbody tr th {\n",
       "        vertical-align: top;\n",
       "    }\n",
       "\n",
       "    .dataframe thead th {\n",
       "        text-align: right;\n",
       "    }\n",
       "</style>\n",
       "<table border=\"1\" class=\"dataframe\">\n",
       "  <thead>\n",
       "    <tr style=\"text-align: right;\">\n",
       "      <th></th>\n",
       "      <th>Comm</th>\n",
       "      <th>Mgmt</th>\n",
       "      <th>Others</th>\n",
       "      <th>Sci</th>\n",
       "      <th>Tech</th>\n",
       "    </tr>\n",
       "  </thead>\n",
       "  <tbody>\n",
       "    <tr>\n",
       "      <th>0</th>\n",
       "      <td>0</td>\n",
       "      <td>0</td>\n",
       "      <td>0</td>\n",
       "      <td>1</td>\n",
       "      <td>0</td>\n",
       "    </tr>\n",
       "    <tr>\n",
       "      <th>0</th>\n",
       "      <td>0</td>\n",
       "      <td>0</td>\n",
       "      <td>0</td>\n",
       "      <td>0</td>\n",
       "      <td>1</td>\n",
       "    </tr>\n",
       "    <tr>\n",
       "      <th>1</th>\n",
       "      <td>0</td>\n",
       "      <td>0</td>\n",
       "      <td>0</td>\n",
       "      <td>1</td>\n",
       "      <td>0</td>\n",
       "    </tr>\n",
       "    <tr>\n",
       "      <th>1</th>\n",
       "      <td>0</td>\n",
       "      <td>0</td>\n",
       "      <td>0</td>\n",
       "      <td>0</td>\n",
       "      <td>1</td>\n",
       "    </tr>\n",
       "    <tr>\n",
       "      <th>2</th>\n",
       "      <td>1</td>\n",
       "      <td>0</td>\n",
       "      <td>0</td>\n",
       "      <td>0</td>\n",
       "      <td>0</td>\n",
       "    </tr>\n",
       "    <tr>\n",
       "      <th>...</th>\n",
       "      <td>...</td>\n",
       "      <td>...</td>\n",
       "      <td>...</td>\n",
       "      <td>...</td>\n",
       "      <td>...</td>\n",
       "    </tr>\n",
       "    <tr>\n",
       "      <th>212</th>\n",
       "      <td>0</td>\n",
       "      <td>1</td>\n",
       "      <td>0</td>\n",
       "      <td>0</td>\n",
       "      <td>0</td>\n",
       "    </tr>\n",
       "    <tr>\n",
       "      <th>213</th>\n",
       "      <td>1</td>\n",
       "      <td>0</td>\n",
       "      <td>0</td>\n",
       "      <td>0</td>\n",
       "      <td>0</td>\n",
       "    </tr>\n",
       "    <tr>\n",
       "      <th>213</th>\n",
       "      <td>0</td>\n",
       "      <td>1</td>\n",
       "      <td>0</td>\n",
       "      <td>0</td>\n",
       "      <td>0</td>\n",
       "    </tr>\n",
       "    <tr>\n",
       "      <th>214</th>\n",
       "      <td>1</td>\n",
       "      <td>0</td>\n",
       "      <td>0</td>\n",
       "      <td>0</td>\n",
       "      <td>0</td>\n",
       "    </tr>\n",
       "    <tr>\n",
       "      <th>214</th>\n",
       "      <td>0</td>\n",
       "      <td>1</td>\n",
       "      <td>0</td>\n",
       "      <td>0</td>\n",
       "      <td>0</td>\n",
       "    </tr>\n",
       "  </tbody>\n",
       "</table>\n",
       "<p>419 rows × 5 columns</p>\n",
       "</div>"
      ],
      "text/plain": [
       "     Comm  Mgmt  Others  Sci  Tech\n",
       "0       0     0       0    1     0\n",
       "0       0     0       0    0     1\n",
       "1       0     0       0    1     0\n",
       "1       0     0       0    0     1\n",
       "2       1     0       0    0     0\n",
       "..    ...   ...     ...  ...   ...\n",
       "212     0     1       0    0     0\n",
       "213     1     0       0    0     0\n",
       "213     0     1       0    0     0\n",
       "214     1     0       0    0     0\n",
       "214     0     1       0    0     0\n",
       "\n",
       "[419 rows x 5 columns]"
      ]
     },
     "execution_count": 25,
     "metadata": {},
     "output_type": "execute_result"
    }
   ],
   "source": [
    "# Split the values in the column at the '&' character\n",
    "degree_split_df = placement_df['degree_t'].str.split('&', expand=True)\n",
    "\n",
    "# Flatten the resulting DataFrame\n",
    "degree_split_df = degree_split_df.stack().reset_index(level=1, drop=True)\n",
    "\n",
    "# Use pd.get_dummies to convert the values into separate columns with binary values\n",
    "degree_split_df = pd.get_dummies(degree_split_df)\n",
    "\n",
    "degree_split_df"
   ]
  },
  {
   "cell_type": "markdown",
   "id": "2625162e",
   "metadata": {},
   "source": [
    "#### Convert the specialisation column's value into different column and append value as 0 if the row does not has that degree and 1 if the row has that degree"
   ]
  },
  {
   "cell_type": "code",
   "execution_count": 26,
   "id": "e02aca04",
   "metadata": {},
   "outputs": [
    {
     "data": {
      "text/html": [
       "<div>\n",
       "<style scoped>\n",
       "    .dataframe tbody tr th:only-of-type {\n",
       "        vertical-align: middle;\n",
       "    }\n",
       "\n",
       "    .dataframe tbody tr th {\n",
       "        vertical-align: top;\n",
       "    }\n",
       "\n",
       "    .dataframe thead th {\n",
       "        text-align: right;\n",
       "    }\n",
       "</style>\n",
       "<table border=\"1\" class=\"dataframe\">\n",
       "  <thead>\n",
       "    <tr style=\"text-align: right;\">\n",
       "      <th></th>\n",
       "      <th>Fin</th>\n",
       "      <th>HR</th>\n",
       "      <th>Mkt</th>\n",
       "    </tr>\n",
       "  </thead>\n",
       "  <tbody>\n",
       "    <tr>\n",
       "      <th>0</th>\n",
       "      <td>0</td>\n",
       "      <td>0</td>\n",
       "      <td>1</td>\n",
       "    </tr>\n",
       "    <tr>\n",
       "      <th>0</th>\n",
       "      <td>0</td>\n",
       "      <td>1</td>\n",
       "      <td>0</td>\n",
       "    </tr>\n",
       "    <tr>\n",
       "      <th>1</th>\n",
       "      <td>0</td>\n",
       "      <td>0</td>\n",
       "      <td>1</td>\n",
       "    </tr>\n",
       "    <tr>\n",
       "      <th>1</th>\n",
       "      <td>1</td>\n",
       "      <td>0</td>\n",
       "      <td>0</td>\n",
       "    </tr>\n",
       "    <tr>\n",
       "      <th>2</th>\n",
       "      <td>0</td>\n",
       "      <td>0</td>\n",
       "      <td>1</td>\n",
       "    </tr>\n",
       "    <tr>\n",
       "      <th>...</th>\n",
       "      <td>...</td>\n",
       "      <td>...</td>\n",
       "      <td>...</td>\n",
       "    </tr>\n",
       "    <tr>\n",
       "      <th>212</th>\n",
       "      <td>1</td>\n",
       "      <td>0</td>\n",
       "      <td>0</td>\n",
       "    </tr>\n",
       "    <tr>\n",
       "      <th>213</th>\n",
       "      <td>0</td>\n",
       "      <td>0</td>\n",
       "      <td>1</td>\n",
       "    </tr>\n",
       "    <tr>\n",
       "      <th>213</th>\n",
       "      <td>0</td>\n",
       "      <td>1</td>\n",
       "      <td>0</td>\n",
       "    </tr>\n",
       "    <tr>\n",
       "      <th>214</th>\n",
       "      <td>0</td>\n",
       "      <td>0</td>\n",
       "      <td>1</td>\n",
       "    </tr>\n",
       "    <tr>\n",
       "      <th>214</th>\n",
       "      <td>0</td>\n",
       "      <td>1</td>\n",
       "      <td>0</td>\n",
       "    </tr>\n",
       "  </tbody>\n",
       "</table>\n",
       "<p>430 rows × 3 columns</p>\n",
       "</div>"
      ],
      "text/plain": [
       "     Fin  HR  Mkt\n",
       "0      0   0    1\n",
       "0      0   1    0\n",
       "1      0   0    1\n",
       "1      1   0    0\n",
       "2      0   0    1\n",
       "..   ...  ..  ...\n",
       "212    1   0    0\n",
       "213    0   0    1\n",
       "213    0   1    0\n",
       "214    0   0    1\n",
       "214    0   1    0\n",
       "\n",
       "[430 rows x 3 columns]"
      ]
     },
     "execution_count": 26,
     "metadata": {},
     "output_type": "execute_result"
    }
   ],
   "source": [
    "# Split the values in the column at the '&' character\n",
    "specialisation_split_df = placement_df['specialisation'].str.split('&', expand=True)\n",
    "\n",
    "# Flatten the resulting DataFrame\n",
    "specialisation_split_df = specialisation_split_df.stack().reset_index(level=1, drop=True)\n",
    "\n",
    "# Use pd.get_dummies to convert the values into separate columns with binary values\n",
    "specialisation_split_df = pd.get_dummies(specialisation_split_df)\n",
    "\n",
    "specialisation_split_df"
   ]
  },
  {
   "cell_type": "markdown",
   "id": "7fcc14dc",
   "metadata": {},
   "source": [
    "#### Joining the degree_split_df and specialisation_split_df to the placement_df"
   ]
  },
  {
   "cell_type": "code",
   "execution_count": 27,
   "id": "5cae9cd1",
   "metadata": {},
   "outputs": [],
   "source": [
    "placement_df = placement_df.join([degree_split_df,specialisation_split_df])"
   ]
  },
  {
   "cell_type": "code",
   "execution_count": 28,
   "id": "9669679b",
   "metadata": {
    "scrolled": true
   },
   "outputs": [
    {
     "data": {
      "text/html": [
       "<div>\n",
       "<style scoped>\n",
       "    .dataframe tbody tr th:only-of-type {\n",
       "        vertical-align: middle;\n",
       "    }\n",
       "\n",
       "    .dataframe tbody tr th {\n",
       "        vertical-align: top;\n",
       "    }\n",
       "\n",
       "    .dataframe thead th {\n",
       "        text-align: right;\n",
       "    }\n",
       "</style>\n",
       "<table border=\"1\" class=\"dataframe\">\n",
       "  <thead>\n",
       "    <tr style=\"text-align: right;\">\n",
       "      <th></th>\n",
       "      <th>gender</th>\n",
       "      <th>ssc_p</th>\n",
       "      <th>ssc_b</th>\n",
       "      <th>hsc_p</th>\n",
       "      <th>hsc_b</th>\n",
       "      <th>hsc_s</th>\n",
       "      <th>degree_p</th>\n",
       "      <th>degree_t</th>\n",
       "      <th>workex</th>\n",
       "      <th>etest_p</th>\n",
       "      <th>...</th>\n",
       "      <th>status</th>\n",
       "      <th>salary</th>\n",
       "      <th>Comm</th>\n",
       "      <th>Mgmt</th>\n",
       "      <th>Others</th>\n",
       "      <th>Sci</th>\n",
       "      <th>Tech</th>\n",
       "      <th>Fin</th>\n",
       "      <th>HR</th>\n",
       "      <th>Mkt</th>\n",
       "    </tr>\n",
       "  </thead>\n",
       "  <tbody>\n",
       "    <tr>\n",
       "      <th>0</th>\n",
       "      <td>M</td>\n",
       "      <td>67.00</td>\n",
       "      <td>Others</td>\n",
       "      <td>91.00</td>\n",
       "      <td>Others</td>\n",
       "      <td>Commerce</td>\n",
       "      <td>58.00</td>\n",
       "      <td>Sci&amp;Tech</td>\n",
       "      <td>False</td>\n",
       "      <td>55.0</td>\n",
       "      <td>...</td>\n",
       "      <td>True</td>\n",
       "      <td>270000.0</td>\n",
       "      <td>0</td>\n",
       "      <td>0</td>\n",
       "      <td>0</td>\n",
       "      <td>1</td>\n",
       "      <td>0</td>\n",
       "      <td>0</td>\n",
       "      <td>0</td>\n",
       "      <td>1</td>\n",
       "    </tr>\n",
       "    <tr>\n",
       "      <th>0</th>\n",
       "      <td>M</td>\n",
       "      <td>67.00</td>\n",
       "      <td>Others</td>\n",
       "      <td>91.00</td>\n",
       "      <td>Others</td>\n",
       "      <td>Commerce</td>\n",
       "      <td>58.00</td>\n",
       "      <td>Sci&amp;Tech</td>\n",
       "      <td>False</td>\n",
       "      <td>55.0</td>\n",
       "      <td>...</td>\n",
       "      <td>True</td>\n",
       "      <td>270000.0</td>\n",
       "      <td>0</td>\n",
       "      <td>0</td>\n",
       "      <td>0</td>\n",
       "      <td>1</td>\n",
       "      <td>0</td>\n",
       "      <td>0</td>\n",
       "      <td>1</td>\n",
       "      <td>0</td>\n",
       "    </tr>\n",
       "    <tr>\n",
       "      <th>0</th>\n",
       "      <td>M</td>\n",
       "      <td>67.00</td>\n",
       "      <td>Others</td>\n",
       "      <td>91.00</td>\n",
       "      <td>Others</td>\n",
       "      <td>Commerce</td>\n",
       "      <td>58.00</td>\n",
       "      <td>Sci&amp;Tech</td>\n",
       "      <td>False</td>\n",
       "      <td>55.0</td>\n",
       "      <td>...</td>\n",
       "      <td>True</td>\n",
       "      <td>270000.0</td>\n",
       "      <td>0</td>\n",
       "      <td>0</td>\n",
       "      <td>0</td>\n",
       "      <td>0</td>\n",
       "      <td>1</td>\n",
       "      <td>0</td>\n",
       "      <td>0</td>\n",
       "      <td>1</td>\n",
       "    </tr>\n",
       "    <tr>\n",
       "      <th>0</th>\n",
       "      <td>M</td>\n",
       "      <td>67.00</td>\n",
       "      <td>Others</td>\n",
       "      <td>91.00</td>\n",
       "      <td>Others</td>\n",
       "      <td>Commerce</td>\n",
       "      <td>58.00</td>\n",
       "      <td>Sci&amp;Tech</td>\n",
       "      <td>False</td>\n",
       "      <td>55.0</td>\n",
       "      <td>...</td>\n",
       "      <td>True</td>\n",
       "      <td>270000.0</td>\n",
       "      <td>0</td>\n",
       "      <td>0</td>\n",
       "      <td>0</td>\n",
       "      <td>0</td>\n",
       "      <td>1</td>\n",
       "      <td>0</td>\n",
       "      <td>1</td>\n",
       "      <td>0</td>\n",
       "    </tr>\n",
       "    <tr>\n",
       "      <th>1</th>\n",
       "      <td>M</td>\n",
       "      <td>79.33</td>\n",
       "      <td>Central</td>\n",
       "      <td>78.33</td>\n",
       "      <td>Others</td>\n",
       "      <td>Science</td>\n",
       "      <td>77.48</td>\n",
       "      <td>Sci&amp;Tech</td>\n",
       "      <td>True</td>\n",
       "      <td>86.5</td>\n",
       "      <td>...</td>\n",
       "      <td>True</td>\n",
       "      <td>200000.0</td>\n",
       "      <td>0</td>\n",
       "      <td>0</td>\n",
       "      <td>0</td>\n",
       "      <td>1</td>\n",
       "      <td>0</td>\n",
       "      <td>0</td>\n",
       "      <td>0</td>\n",
       "      <td>1</td>\n",
       "    </tr>\n",
       "    <tr>\n",
       "      <th>...</th>\n",
       "      <td>...</td>\n",
       "      <td>...</td>\n",
       "      <td>...</td>\n",
       "      <td>...</td>\n",
       "      <td>...</td>\n",
       "      <td>...</td>\n",
       "      <td>...</td>\n",
       "      <td>...</td>\n",
       "      <td>...</td>\n",
       "      <td>...</td>\n",
       "      <td>...</td>\n",
       "      <td>...</td>\n",
       "      <td>...</td>\n",
       "      <td>...</td>\n",
       "      <td>...</td>\n",
       "      <td>...</td>\n",
       "      <td>...</td>\n",
       "      <td>...</td>\n",
       "      <td>...</td>\n",
       "      <td>...</td>\n",
       "      <td>...</td>\n",
       "    </tr>\n",
       "    <tr>\n",
       "      <th>213</th>\n",
       "      <td>F</td>\n",
       "      <td>74.00</td>\n",
       "      <td>Others</td>\n",
       "      <td>66.00</td>\n",
       "      <td>Others</td>\n",
       "      <td>Commerce</td>\n",
       "      <td>58.00</td>\n",
       "      <td>Comm&amp;Mgmt</td>\n",
       "      <td>False</td>\n",
       "      <td>70.0</td>\n",
       "      <td>...</td>\n",
       "      <td>True</td>\n",
       "      <td>204000.0</td>\n",
       "      <td>0</td>\n",
       "      <td>1</td>\n",
       "      <td>0</td>\n",
       "      <td>0</td>\n",
       "      <td>0</td>\n",
       "      <td>0</td>\n",
       "      <td>1</td>\n",
       "      <td>0</td>\n",
       "    </tr>\n",
       "    <tr>\n",
       "      <th>214</th>\n",
       "      <td>M</td>\n",
       "      <td>62.00</td>\n",
       "      <td>Central</td>\n",
       "      <td>58.00</td>\n",
       "      <td>Others</td>\n",
       "      <td>Science</td>\n",
       "      <td>53.00</td>\n",
       "      <td>Comm&amp;Mgmt</td>\n",
       "      <td>False</td>\n",
       "      <td>89.0</td>\n",
       "      <td>...</td>\n",
       "      <td>False</td>\n",
       "      <td>0.0</td>\n",
       "      <td>1</td>\n",
       "      <td>0</td>\n",
       "      <td>0</td>\n",
       "      <td>0</td>\n",
       "      <td>0</td>\n",
       "      <td>0</td>\n",
       "      <td>0</td>\n",
       "      <td>1</td>\n",
       "    </tr>\n",
       "    <tr>\n",
       "      <th>214</th>\n",
       "      <td>M</td>\n",
       "      <td>62.00</td>\n",
       "      <td>Central</td>\n",
       "      <td>58.00</td>\n",
       "      <td>Others</td>\n",
       "      <td>Science</td>\n",
       "      <td>53.00</td>\n",
       "      <td>Comm&amp;Mgmt</td>\n",
       "      <td>False</td>\n",
       "      <td>89.0</td>\n",
       "      <td>...</td>\n",
       "      <td>False</td>\n",
       "      <td>0.0</td>\n",
       "      <td>1</td>\n",
       "      <td>0</td>\n",
       "      <td>0</td>\n",
       "      <td>0</td>\n",
       "      <td>0</td>\n",
       "      <td>0</td>\n",
       "      <td>1</td>\n",
       "      <td>0</td>\n",
       "    </tr>\n",
       "    <tr>\n",
       "      <th>214</th>\n",
       "      <td>M</td>\n",
       "      <td>62.00</td>\n",
       "      <td>Central</td>\n",
       "      <td>58.00</td>\n",
       "      <td>Others</td>\n",
       "      <td>Science</td>\n",
       "      <td>53.00</td>\n",
       "      <td>Comm&amp;Mgmt</td>\n",
       "      <td>False</td>\n",
       "      <td>89.0</td>\n",
       "      <td>...</td>\n",
       "      <td>False</td>\n",
       "      <td>0.0</td>\n",
       "      <td>0</td>\n",
       "      <td>1</td>\n",
       "      <td>0</td>\n",
       "      <td>0</td>\n",
       "      <td>0</td>\n",
       "      <td>0</td>\n",
       "      <td>0</td>\n",
       "      <td>1</td>\n",
       "    </tr>\n",
       "    <tr>\n",
       "      <th>214</th>\n",
       "      <td>M</td>\n",
       "      <td>62.00</td>\n",
       "      <td>Central</td>\n",
       "      <td>58.00</td>\n",
       "      <td>Others</td>\n",
       "      <td>Science</td>\n",
       "      <td>53.00</td>\n",
       "      <td>Comm&amp;Mgmt</td>\n",
       "      <td>False</td>\n",
       "      <td>89.0</td>\n",
       "      <td>...</td>\n",
       "      <td>False</td>\n",
       "      <td>0.0</td>\n",
       "      <td>0</td>\n",
       "      <td>1</td>\n",
       "      <td>0</td>\n",
       "      <td>0</td>\n",
       "      <td>0</td>\n",
       "      <td>0</td>\n",
       "      <td>1</td>\n",
       "      <td>0</td>\n",
       "    </tr>\n",
       "  </tbody>\n",
       "</table>\n",
       "<p>838 rows × 22 columns</p>\n",
       "</div>"
      ],
      "text/plain": [
       "    gender  ssc_p    ssc_b  hsc_p   hsc_b     hsc_s  degree_p   degree_t  \\\n",
       "0        M  67.00   Others  91.00  Others  Commerce     58.00   Sci&Tech   \n",
       "0        M  67.00   Others  91.00  Others  Commerce     58.00   Sci&Tech   \n",
       "0        M  67.00   Others  91.00  Others  Commerce     58.00   Sci&Tech   \n",
       "0        M  67.00   Others  91.00  Others  Commerce     58.00   Sci&Tech   \n",
       "1        M  79.33  Central  78.33  Others   Science     77.48   Sci&Tech   \n",
       "..     ...    ...      ...    ...     ...       ...       ...        ...   \n",
       "213      F  74.00   Others  66.00  Others  Commerce     58.00  Comm&Mgmt   \n",
       "214      M  62.00  Central  58.00  Others   Science     53.00  Comm&Mgmt   \n",
       "214      M  62.00  Central  58.00  Others   Science     53.00  Comm&Mgmt   \n",
       "214      M  62.00  Central  58.00  Others   Science     53.00  Comm&Mgmt   \n",
       "214      M  62.00  Central  58.00  Others   Science     53.00  Comm&Mgmt   \n",
       "\n",
       "     workex  etest_p  ... status    salary  Comm  Mgmt  Others  Sci  Tech  \\\n",
       "0     False     55.0  ...   True  270000.0     0     0       0    1     0   \n",
       "0     False     55.0  ...   True  270000.0     0     0       0    1     0   \n",
       "0     False     55.0  ...   True  270000.0     0     0       0    0     1   \n",
       "0     False     55.0  ...   True  270000.0     0     0       0    0     1   \n",
       "1      True     86.5  ...   True  200000.0     0     0       0    1     0   \n",
       "..      ...      ...  ...    ...       ...   ...   ...     ...  ...   ...   \n",
       "213   False     70.0  ...   True  204000.0     0     1       0    0     0   \n",
       "214   False     89.0  ...  False       0.0     1     0       0    0     0   \n",
       "214   False     89.0  ...  False       0.0     1     0       0    0     0   \n",
       "214   False     89.0  ...  False       0.0     0     1       0    0     0   \n",
       "214   False     89.0  ...  False       0.0     0     1       0    0     0   \n",
       "\n",
       "     Fin  HR  Mkt  \n",
       "0      0   0    1  \n",
       "0      0   1    0  \n",
       "0      0   0    1  \n",
       "0      0   1    0  \n",
       "1      0   0    1  \n",
       "..   ...  ..  ...  \n",
       "213    0   1    0  \n",
       "214    0   0    1  \n",
       "214    0   1    0  \n",
       "214    0   0    1  \n",
       "214    0   1    0  \n",
       "\n",
       "[838 rows x 22 columns]"
      ]
     },
     "execution_count": 28,
     "metadata": {},
     "output_type": "execute_result"
    }
   ],
   "source": [
    "placement_df"
   ]
  },
  {
   "cell_type": "markdown",
   "id": "f86b6171",
   "metadata": {},
   "source": [
    "---"
   ]
  },
  {
   "cell_type": "markdown",
   "id": "33861b59",
   "metadata": {},
   "source": [
    "#### Changing required column's data type to boolean"
   ]
  },
  {
   "cell_type": "code",
   "execution_count": 29,
   "id": "400b7f78",
   "metadata": {},
   "outputs": [],
   "source": [
    "placement_df['workex'] = placement_df['workex'].astype(bool)\n",
    "placement_df['status'] = placement_df['status'].astype(bool)\n",
    "\n",
    "placement_df['Comm'] = placement_df['Comm'].astype(bool)\n",
    "placement_df['Mgmt'] = placement_df['Mgmt'].astype(bool)\n",
    "placement_df['Others'] = placement_df['Others'].astype(bool)\n",
    "placement_df['Sci'] = placement_df['Sci'].astype(bool)\n",
    "placement_df['Tech'] = placement_df['Tech'].astype(bool)\n",
    "placement_df['Fin'] = placement_df['Fin'].astype(bool)\n",
    "placement_df['HR'] = placement_df['HR'].astype(bool)\n",
    "placement_df['Mkt'] = placement_df['Mkt'].astype(bool)\n"
   ]
  },
  {
   "cell_type": "markdown",
   "id": "690867e0",
   "metadata": {},
   "source": [
    "#### Checking data type"
   ]
  },
  {
   "cell_type": "code",
   "execution_count": 30,
   "id": "62bc8dff",
   "metadata": {
    "scrolled": false
   },
   "outputs": [
    {
     "data": {
      "text/plain": [
       "gender             object\n",
       "ssc_p             float64\n",
       "ssc_b              object\n",
       "hsc_p             float64\n",
       "hsc_b              object\n",
       "hsc_s              object\n",
       "degree_p          float64\n",
       "degree_t           object\n",
       "workex               bool\n",
       "etest_p           float64\n",
       "specialisation     object\n",
       "mba_p             float64\n",
       "status               bool\n",
       "salary            float64\n",
       "Comm                 bool\n",
       "Mgmt                 bool\n",
       "Others               bool\n",
       "Sci                  bool\n",
       "Tech                 bool\n",
       "Fin                  bool\n",
       "HR                   bool\n",
       "Mkt                  bool\n",
       "dtype: object"
      ]
     },
     "execution_count": 30,
     "metadata": {},
     "output_type": "execute_result"
    }
   ],
   "source": [
    "placement_df.dtypes"
   ]
  },
  {
   "cell_type": "markdown",
   "id": "17e2fd69",
   "metadata": {},
   "source": [
    "---"
   ]
  },
  {
   "cell_type": "markdown",
   "id": "e2672333",
   "metadata": {},
   "source": [
    "## Answering questions"
   ]
  },
  {
   "cell_type": "markdown",
   "id": "8a2efdae",
   "metadata": {},
   "source": [
    "---"
   ]
  },
  {
   "cell_type": "markdown",
   "id": "ece8cfd9",
   "metadata": {},
   "source": [
    "#### Who is getting more salary on the basis of Gender?"
   ]
  },
  {
   "cell_type": "code",
   "execution_count": 31,
   "id": "f21d4f26",
   "metadata": {},
   "outputs": [
    {
     "name": "stdout",
     "output_type": "stream",
     "text": [
      "gender\n",
      "F    167863.013699\n",
      "M    218065.934066\n",
      "Name: salary, dtype: float64\n",
      "26.01670255409674\n"
     ]
    }
   ],
   "source": [
    "def percentageCalc(number1, number2):\n",
    "\n",
    "    percentage_difference = 100 * (abs(number1 - number2) / ((number1 + number2) / 2))\n",
    "    \n",
    "    return format(percentage_difference)\n",
    "\n",
    "# Group data by gender\n",
    "grouped = placement_df.groupby(\"gender\")\n",
    "\n",
    "# Calculate average salary for each gender group\n",
    "average_salary = grouped[\"salary\"].mean()\n",
    "\n",
    "# Print average salary for each gender group\n",
    "print(average_salary)\n",
    "print(percentageCalc(218066,167863))\n",
    "\n",
    "\n"
   ]
  },
  {
   "cell_type": "markdown",
   "id": "8174186e",
   "metadata": {},
   "source": [
    "The average salary for Female is 167863.01 and the average salary for Male is 218065.93.\n",
    "\n",
    "The percentage difference between the two groups is 26.02%, which means the average salary for Male is 26.02% higher than the average salary for group Female."
   ]
  },
  {
   "cell_type": "markdown",
   "id": "f791d4af",
   "metadata": {},
   "source": [
    "#### Which specialization has more job placement?"
   ]
  },
  {
   "cell_type": "code",
   "execution_count": 32,
   "id": "ae54129d",
   "metadata": {},
   "outputs": [
    {
     "name": "stdout",
     "output_type": "stream",
     "text": [
      "291\n",
      "188\n",
      "103\n"
     ]
    },
    {
     "data": {
      "image/png": "[encoded data removed]",
      "text/plain": [
       "<Figure size 432x288 with 1 Axes>"
      ]
     },
     "metadata": {},
     "output_type": "display_data"
    }
   ],
   "source": [
    "placement_df\n",
    "marketing_placements = (placement_df['Mkt'].eq(True) & placement_df['status'].eq(True)).sum()\n",
    "finance_placements = (placement_df['Fin'].eq(True) & placement_df['status'].eq(True)).sum()\n",
    "hr_placements = (placement_df['HR'].eq(True) & placement_df['status'].eq(True)).sum()\n",
    "\n",
    "print(marketing_placements)\n",
    "print(finance_placements)\n",
    "print(hr_placements)\n",
    "\n",
    "# Plot the results\n",
    "placements = [marketing_placements, finance_placements, hr_placements]\n",
    "specializations = ['Marketing', 'Finance', 'Human Resources']\n",
    "plt.bar(specializations, placements)\n",
    "plt.xlabel(\"Specialization\")\n",
    "plt.ylabel(\"Status\")\n",
    "plt.title(\"Number of Placements by Specialization\")\n",
    "plt.show()"
   ]
  },
  {
   "cell_type": "markdown",
   "id": "9be87436",
   "metadata": {},
   "source": [
    "Theere are three different specializations: Marketing, Finance, and Human Resources. There are 291 placements in Marketing, 188 placements in Finance, and 103 placements in Human Resources. This means that out of the total number of students who specialized in Marketing, 291 students were successfully placed in a job. Similarly, out of the total number of students who specialize in Finance, 188 were successfully placed in a job, and out of the total number of students who specialize in Human Resources, 103 were successfully placed in a job. This information gives us an idea of which specialization is in higher demand and which is relatively less in demand in the job market."
   ]
  },
  {
   "cell_type": "markdown",
   "id": "ebd8d04d",
   "metadata": {},
   "source": [
    "#### Which specialization is getting more salary?"
   ]
  },
  {
   "cell_type": "code",
   "execution_count": 33,
   "id": "4679e6fd",
   "metadata": {},
   "outputs": [
    {
     "name": "stdout",
     "output_type": "stream",
     "text": [
      "Average salary for marketing: 200572.7923627685\n",
      "Average salary for finance: 238059.3220338983\n",
      "Average salary for human resources: 152229.50819672132\n"
     ]
    }
   ],
   "source": [
    "marketing_salary = placement_df[placement_df['Mkt'] == 1]['salary'].mean()\n",
    "finance_salary = placement_df[placement_df['Fin'] == 1]['salary'].mean()\n",
    "hr_salary = placement_df[placement_df['HR'] == 1]['salary'].mean()\n",
    "\n",
    "# display the results\n",
    "print(\"Average salary for marketing:\", marketing_salary)\n",
    "print(\"Average salary for finance:\", finance_salary)\n",
    "print(\"Average salary for human resources:\", hr_salary)"
   ]
  },
  {
   "cell_type": "markdown",
   "id": "41703734",
   "metadata": {},
   "source": [
    "For each specialization, the average salary of the students who got placed successfully has been calculated. According to the data, the average salary for Marketing specialization is 200,572.79, for Finance specialization it is 238,059.32, and for Human Resources it is 152,229.51. This data can give an insight into the job market for each specialization and help students make informed decisions about their career paths."
   ]
  },
  {
   "cell_type": "markdown",
   "id": "4ded4fe7",
   "metadata": {},
   "source": [
    "#### Which hsc_s gets more salary on the basis of gender?"
   ]
  },
  {
   "cell_type": "code",
   "execution_count": 34,
   "id": "35eef9bb",
   "metadata": {},
   "outputs": [
    {
     "name": "stdout",
     "output_type": "stream",
     "text": [
      "hsc_s\n",
      "Arts        135777.777778\n",
      "Commerce    201831.111111\n",
      "Science     205590.909091\n",
      "Name: salary, dtype: float64\n"
     ]
    }
   ],
   "source": [
    "# Group data by hsc_s module\n",
    "grouped = placement_df.groupby(\"hsc_s\")\n",
    "\n",
    "# Calculate average salary for each hsc_s module group\n",
    "average_salary = grouped[\"salary\"].mean()\n",
    "\n",
    "# Print average salary for each hsc_s module group\n",
    "print(average_salary)\n"
   ]
  },
  {
   "cell_type": "markdown",
   "id": "0bfee576",
   "metadata": {},
   "source": [
    "There are three different module in hsc_s: Arts, Commerce, and Science. The average salary of Arts is 135777.77, which is  approximately 46% lower than the average salary of Commerce which is 201831.11. The average salary of Science is 205590.90, which is higher than the average salary of Arts by approximately 51% but lower than the average salary of Commerce by approximately 1%."
   ]
  },
  {
   "cell_type": "markdown",
   "id": "d585b2c0",
   "metadata": {},
   "source": [
    "#### Who has high job placement on the basis of degree_t and gender?"
   ]
  },
  {
   "cell_type": "code",
   "execution_count": 35,
   "id": "d1523e5c",
   "metadata": {},
   "outputs": [
    {
     "data": {
      "text/html": [
       "<div>\n",
       "<style scoped>\n",
       "    .dataframe tbody tr th:only-of-type {\n",
       "        vertical-align: middle;\n",
       "    }\n",
       "\n",
       "    .dataframe tbody tr th {\n",
       "        vertical-align: top;\n",
       "    }\n",
       "\n",
       "    .dataframe thead th {\n",
       "        text-align: right;\n",
       "    }\n",
       "</style>\n",
       "<table border=\"1\" class=\"dataframe\">\n",
       "  <thead>\n",
       "    <tr style=\"text-align: right;\">\n",
       "      <th></th>\n",
       "      <th>degree_t</th>\n",
       "      <th>gender</th>\n",
       "      <th>status</th>\n",
       "    </tr>\n",
       "  </thead>\n",
       "  <tbody>\n",
       "    <tr>\n",
       "      <th>1</th>\n",
       "      <td>Comm&amp;Mgmt</td>\n",
       "      <td>M</td>\n",
       "      <td>276</td>\n",
       "    </tr>\n",
       "    <tr>\n",
       "      <th>0</th>\n",
       "      <td>Comm&amp;Mgmt</td>\n",
       "      <td>F</td>\n",
       "      <td>132</td>\n",
       "    </tr>\n",
       "    <tr>\n",
       "      <th>5</th>\n",
       "      <td>Sci&amp;Tech</td>\n",
       "      <td>M</td>\n",
       "      <td>120</td>\n",
       "    </tr>\n",
       "    <tr>\n",
       "      <th>4</th>\n",
       "      <td>Sci&amp;Tech</td>\n",
       "      <td>F</td>\n",
       "      <td>44</td>\n",
       "    </tr>\n",
       "    <tr>\n",
       "      <th>2</th>\n",
       "      <td>Others</td>\n",
       "      <td>F</td>\n",
       "      <td>8</td>\n",
       "    </tr>\n",
       "    <tr>\n",
       "      <th>3</th>\n",
       "      <td>Others</td>\n",
       "      <td>M</td>\n",
       "      <td>2</td>\n",
       "    </tr>\n",
       "  </tbody>\n",
       "</table>\n",
       "</div>"
      ],
      "text/plain": [
       "    degree_t gender  status\n",
       "1  Comm&Mgmt      M     276\n",
       "0  Comm&Mgmt      F     132\n",
       "5   Sci&Tech      M     120\n",
       "4   Sci&Tech      F      44\n",
       "2     Others      F       8\n",
       "3     Others      M       2"
      ]
     },
     "execution_count": 35,
     "metadata": {},
     "output_type": "execute_result"
    }
   ],
   "source": [
    "grouped = placement_df.groupby([\"degree_t\", \"gender\"])[\"status\"].agg(\"sum\")\n",
    "result = grouped.reset_index().sort_values(\"status\", ascending=False)\n",
    "result"
   ]
  },
  {
   "cell_type": "markdown",
   "id": "a5b796d0",
   "metadata": {},
   "source": [
    "The data represents the job placement status of students based on their degree_t (degree type) and gender. \n",
    "Male students with a degree in Commerce & Management  have the highest number of placements with a total of 276, followed by female students with a degree in Commerce & Management  with 132 placements.\n",
    "\n",
    "In terms of students with a degree in Science & Technology, the number of male students placed is 120, which is significantly lower compared to the number of male students with a degree in Commerce & Management . The number of female students with a degree in Science & Technology who are placed is 44, which is lower than the number of female students with a degree in Commerce & Management .\n",
    "\n",
    "The number of male students with a degree in Others who have been placed is 2, which is significantly lower compared to the number of male students with a degree in Commerce & Management  or Science & Technology. The number of female students with a degree in Others who have been placed is 8, which is also lower compared to the number of female students with a degree in Commerce & Management  or Science & Technology.\n",
    "\n",
    "From the data, we can conclude that a degree in Commerce & Management  leads to a higher number of placements for both male and female students, followed by a degree in Science & Technology. A degree in Others seems to have a much lower number of placements for both male and female students."
   ]
  },
  {
   "cell_type": "markdown",
   "id": "c63d939a",
   "metadata": {},
   "source": [
    "#### Which gender has high work experience?"
   ]
  },
  {
   "cell_type": "code",
   "execution_count": 36,
   "id": "fcb8ff31",
   "metadata": {},
   "outputs": [
    {
     "data": {
      "text/html": [
       "<div>\n",
       "<style scoped>\n",
       "    .dataframe tbody tr th:only-of-type {\n",
       "        vertical-align: middle;\n",
       "    }\n",
       "\n",
       "    .dataframe tbody tr th {\n",
       "        vertical-align: top;\n",
       "    }\n",
       "\n",
       "    .dataframe thead th {\n",
       "        text-align: right;\n",
       "    }\n",
       "</style>\n",
       "<table border=\"1\" class=\"dataframe\">\n",
       "  <thead>\n",
       "    <tr style=\"text-align: right;\">\n",
       "      <th></th>\n",
       "      <th>gender</th>\n",
       "      <th>workex</th>\n",
       "    </tr>\n",
       "  </thead>\n",
       "  <tbody>\n",
       "    <tr>\n",
       "      <th>1</th>\n",
       "      <td>M</td>\n",
       "      <td>204</td>\n",
       "    </tr>\n",
       "    <tr>\n",
       "      <th>0</th>\n",
       "      <td>F</td>\n",
       "      <td>84</td>\n",
       "    </tr>\n",
       "  </tbody>\n",
       "</table>\n",
       "</div>"
      ],
      "text/plain": [
       "  gender  workex\n",
       "1      M     204\n",
       "0      F      84"
      ]
     },
     "execution_count": 36,
     "metadata": {},
     "output_type": "execute_result"
    }
   ],
   "source": [
    "# Calculating the sum of work experience for each gender\n",
    "gender_work_experience = placement_df.groupby(\"gender\")[\"workex\"].sum()\n",
    "result = gender_work_experience.reset_index().sort_values(\"gender\", ascending=False)\n",
    "result\n"
   ]
  },
  {
   "cell_type": "markdown",
   "id": "fff3cd73",
   "metadata": {},
   "source": [
    "There are 204 male students with work experience and 84 female students with work experience. This information can be used to understand the distribution of work experience among students based on their gender, and to make informed decisions or observations based on it."
   ]
  },
  {
   "cell_type": "markdown",
   "id": "ad44d711",
   "metadata": {},
   "source": [
    "#### Which specialization is getting more salary in the basis of degree_t?"
   ]
  },
  {
   "cell_type": "code",
   "execution_count": 37,
   "id": "510663d7",
   "metadata": {
    "scrolled": true
   },
   "outputs": [
    {
     "data": {
      "text/html": [
       "<div>\n",
       "<style scoped>\n",
       "    .dataframe tbody tr th:only-of-type {\n",
       "        vertical-align: middle;\n",
       "    }\n",
       "\n",
       "    .dataframe tbody tr th {\n",
       "        vertical-align: top;\n",
       "    }\n",
       "\n",
       "    .dataframe thead th {\n",
       "        text-align: right;\n",
       "    }\n",
       "</style>\n",
       "<table border=\"1\" class=\"dataframe\">\n",
       "  <thead>\n",
       "    <tr style=\"text-align: right;\">\n",
       "      <th></th>\n",
       "      <th>degree</th>\n",
       "      <th>Mkt</th>\n",
       "      <th>Fin</th>\n",
       "      <th>HR</th>\n",
       "    </tr>\n",
       "  </thead>\n",
       "  <tbody>\n",
       "    <tr>\n",
       "      <th>0</th>\n",
       "      <td>Comm&amp;Mgmt</td>\n",
       "      <td>196000.000000</td>\n",
       "      <td>229337.209302</td>\n",
       "      <td>147406.779661</td>\n",
       "    </tr>\n",
       "    <tr>\n",
       "      <th>1</th>\n",
       "      <td>Sci&amp;Tech</td>\n",
       "      <td>218627.118644</td>\n",
       "      <td>268933.333333</td>\n",
       "      <td>166586.206897</td>\n",
       "    </tr>\n",
       "    <tr>\n",
       "      <th>2</th>\n",
       "      <td>Others</td>\n",
       "      <td>127454.545455</td>\n",
       "      <td>150000.000000</td>\n",
       "      <td>114571.428571</td>\n",
       "    </tr>\n",
       "  </tbody>\n",
       "</table>\n",
       "</div>"
      ],
      "text/plain": [
       "      degree            Mkt            Fin             HR\n",
       "0  Comm&Mgmt  196000.000000  229337.209302  147406.779661\n",
       "1   Sci&Tech  218627.118644  268933.333333  166586.206897\n",
       "2     Others  127454.545455  150000.000000  114571.428571"
      ]
     },
     "execution_count": 37,
     "metadata": {},
     "output_type": "execute_result"
    }
   ],
   "source": [
    "results = []\n",
    "\n",
    "for degree in ['Comm&Mgmt', 'Sci&Tech', 'Others']:\n",
    "    MktBasedOnDegree = placement_df[(placement_df['Mkt'] == True) & (placement_df['degree_t'] == degree)]['salary'].mean()\n",
    "    FinBasedOnDegree = placement_df[(placement_df['Fin'] == True) & (placement_df['degree_t'] == degree)]['salary'].mean()\n",
    "    HRBasedOnDegree = placement_df[(placement_df['HR'] == True) & (placement_df['degree_t'] == degree)]['salary'].mean()                             \n",
    "\n",
    "    results.append({\n",
    "        'degree': degree,\n",
    "        'Mkt': MktBasedOnDegree,\n",
    "        'Fin': FinBasedOnDegree,\n",
    "        'HR': HRBasedOnDegree\n",
    "    })\n",
    "    \n",
    "df = pd.DataFrame(results)\n",
    "df"
   ]
  },
  {
   "cell_type": "markdown",
   "id": "84ccf5bd",
   "metadata": {},
   "source": [
    "#### Which degree_t is placed more?"
   ]
  },
  {
   "cell_type": "code",
   "execution_count": 38,
   "id": "b1743d99",
   "metadata": {},
   "outputs": [
    {
     "data": {
      "text/html": [
       "<div>\n",
       "<style scoped>\n",
       "    .dataframe tbody tr th:only-of-type {\n",
       "        vertical-align: middle;\n",
       "    }\n",
       "\n",
       "    .dataframe tbody tr th {\n",
       "        vertical-align: top;\n",
       "    }\n",
       "\n",
       "    .dataframe thead th {\n",
       "        text-align: right;\n",
       "    }\n",
       "</style>\n",
       "<table border=\"1\" class=\"dataframe\">\n",
       "  <thead>\n",
       "    <tr style=\"text-align: right;\">\n",
       "      <th></th>\n",
       "      <th>degree_t</th>\n",
       "      <th>status</th>\n",
       "    </tr>\n",
       "  </thead>\n",
       "  <tbody>\n",
       "    <tr>\n",
       "      <th>0</th>\n",
       "      <td>Comm&amp;Mgmt</td>\n",
       "      <td>408</td>\n",
       "    </tr>\n",
       "    <tr>\n",
       "      <th>2</th>\n",
       "      <td>Sci&amp;Tech</td>\n",
       "      <td>164</td>\n",
       "    </tr>\n",
       "    <tr>\n",
       "      <th>1</th>\n",
       "      <td>Others</td>\n",
       "      <td>10</td>\n",
       "    </tr>\n",
       "  </tbody>\n",
       "</table>\n",
       "</div>"
      ],
      "text/plain": [
       "    degree_t  status\n",
       "0  Comm&Mgmt     408\n",
       "2   Sci&Tech     164\n",
       "1     Others      10"
      ]
     },
     "execution_count": 38,
     "metadata": {},
     "output_type": "execute_result"
    }
   ],
   "source": [
    "degree_job_placement = placement_df.groupby(\"degree_t\")[\"status\"].sum()\n",
    "\n",
    "result = degree_job_placement.reset_index().sort_values(\"status\", ascending=False)\n",
    "\n",
    "result\n"
   ]
  },
  {
   "cell_type": "markdown",
   "id": "67cbb836",
   "metadata": {},
   "source": [
    "There are 3 different degree_t types in the data: \"Comm&Mgmt\", \"Sci&Tech\", and \"Others\". Among the three degree_t types, \"Comm&Mgmt\" has the highest number of job placements with 408. \"Sci&Tech\" has the second highest with 164 placements. \"Others\" has the lowest number of placements with only 10."
   ]
  },
  {
   "cell_type": "markdown",
   "id": "d159b02c",
   "metadata": {},
   "source": [
    "#### Which degree_t is getting low salary?"
   ]
  },
  {
   "cell_type": "code",
   "execution_count": 39,
   "id": "be9c1a50",
   "metadata": {},
   "outputs": [
    {
     "data": {
      "text/html": [
       "<div>\n",
       "<style scoped>\n",
       "    .dataframe tbody tr th:only-of-type {\n",
       "        vertical-align: middle;\n",
       "    }\n",
       "\n",
       "    .dataframe tbody tr th {\n",
       "        vertical-align: top;\n",
       "    }\n",
       "\n",
       "    .dataframe thead th {\n",
       "        text-align: right;\n",
       "    }\n",
       "</style>\n",
       "<table border=\"1\" class=\"dataframe\">\n",
       "  <thead>\n",
       "    <tr style=\"text-align: right;\">\n",
       "      <th></th>\n",
       "      <th>index</th>\n",
       "      <th>degree_t</th>\n",
       "    </tr>\n",
       "  </thead>\n",
       "  <tbody>\n",
       "    <tr>\n",
       "      <th>0</th>\n",
       "      <td>Comm&amp;Mgmt</td>\n",
       "      <td>172</td>\n",
       "    </tr>\n",
       "    <tr>\n",
       "      <th>1</th>\n",
       "      <td>Sci&amp;Tech</td>\n",
       "      <td>72</td>\n",
       "    </tr>\n",
       "    <tr>\n",
       "      <th>2</th>\n",
       "      <td>Others</td>\n",
       "      <td>12</td>\n",
       "    </tr>\n",
       "  </tbody>\n",
       "</table>\n",
       "</div>"
      ],
      "text/plain": [
       "       index  degree_t\n",
       "0  Comm&Mgmt       172\n",
       "1   Sci&Tech        72\n",
       "2     Others        12"
      ]
     },
     "execution_count": 39,
     "metadata": {},
     "output_type": "execute_result"
    }
   ],
   "source": [
    "# removing the outliers in salary \n",
    "Q1 = placement_df['salary'].quantile(0.25)\n",
    "Q3 = placement_df['salary'].quantile(0.75)\n",
    "IQR = Q3 - Q1    #IQR is interquartile range. \n",
    "\n",
    "filter = (placement_df['salary'] >= Q1 - 1.5 * IQR) & (placement_df['salary'] <= Q3 + 1.5 *IQR)\n",
    "placement_df_filtered=placement_df.loc[filter]\n",
    "\n",
    "\n",
    "#Finding the degree_t with salary below average salary\n",
    "average_salary = placement_df_filtered['salary'].mean()\n",
    "low_salary_degree = placement_df['degree_t'][placement_df['salary'] < average_salary].value_counts()\n",
    "result = low_salary_degree.reset_index()\n",
    "result"
   ]
  },
  {
   "cell_type": "markdown",
   "id": "d5d2159d",
   "metadata": {},
   "source": [
    "The table above represents the number of records in the dataset that correspond to individuals who have taken a particular degree program Comm&Mgmt, Sci&Tech, or Others and whose salaries are below the average salary.\n",
    "\n",
    "The highest number of records (172) correspond to individuals who have taken the degree program in Comm&Mgmt, followed by Sci&Tech (72) and Others (12). These results can be used to make inferences about the relative competitiveness of the job market for individuals who have taken these degrees and to make comparisons with other degree programs. Hence, Commerce and Management degree have the lower salary than other degrees."
   ]
  },
  {
   "cell_type": "markdown",
   "id": "693c394a",
   "metadata": {},
   "source": [
    "#### Which degree_t is has low job placement?"
   ]
  },
  {
   "cell_type": "code",
   "execution_count": 44,
   "id": "d6006f2a",
   "metadata": {},
   "outputs": [
    {
     "data": {
      "text/html": [
       "<div>\n",
       "<style scoped>\n",
       "    .dataframe tbody tr th:only-of-type {\n",
       "        vertical-align: middle;\n",
       "    }\n",
       "\n",
       "    .dataframe tbody tr th {\n",
       "        vertical-align: top;\n",
       "    }\n",
       "\n",
       "    .dataframe thead th {\n",
       "        text-align: right;\n",
       "    }\n",
       "</style>\n",
       "<table border=\"1\" class=\"dataframe\">\n",
       "  <thead>\n",
       "    <tr style=\"text-align: right;\">\n",
       "      <th></th>\n",
       "      <th>degree_t</th>\n",
       "      <th>status</th>\n",
       "      <th>count</th>\n",
       "    </tr>\n",
       "  </thead>\n",
       "  <tbody>\n",
       "    <tr>\n",
       "      <th>3</th>\n",
       "      <td>Others</td>\n",
       "      <td>True</td>\n",
       "      <td>12</td>\n",
       "    </tr>\n",
       "    <tr>\n",
       "      <th>5</th>\n",
       "      <td>Sci&amp;Tech</td>\n",
       "      <td>True</td>\n",
       "      <td>76</td>\n",
       "    </tr>\n",
       "    <tr>\n",
       "      <th>1</th>\n",
       "      <td>Comm&amp;Mgmt</td>\n",
       "      <td>True</td>\n",
       "      <td>192</td>\n",
       "    </tr>\n",
       "  </tbody>\n",
       "</table>\n",
       "</div>"
      ],
      "text/plain": [
       "    degree_t  status  count\n",
       "3     Others    True     12\n",
       "5   Sci&Tech    True     76\n",
       "1  Comm&Mgmt    True    192"
      ]
     },
     "execution_count": 44,
     "metadata": {},
     "output_type": "execute_result"
    }
   ],
   "source": [
    "placement_df['status'] = placement_df['salary'] < placement_df['salary'].mean()\n",
    "\n",
    "degree_counts = placement_df.groupby(['degree_t', 'status']).size().reset_index(name='count')\n",
    "degree_counts = degree_counts[degree_counts['status'] == True]\n",
    "\n",
    "degree_counts.sort_values(by='count', ascending=True)"
   ]
  },
  {
   "cell_type": "markdown",
   "id": "67936a06",
   "metadata": {},
   "source": [
    "There are 12 people who have received job placements with a degree in \"Others\", 76 people with \"Sci&Tech\" degree, and 192 people with \"Comm&Mgmt\" degree. Hence, people with Science and Technology degree have lower job placement than Commerce and Management degree but have higher placement than other degree.\n",
    "This data can be useful to understand the job placement trend for different degree types and make informed decisions."
   ]
  },
  {
   "cell_type": "code",
   "execution_count": null,
   "id": "8fd22f09",
   "metadata": {},
   "outputs": [],
   "source": []
  }
 ],
 "metadata": {
  "kernelspec": {
   "display_name": "Python 3 (ipykernel)",
   "language": "python",
   "name": "python3"
  },
  "language_info": {
   "codemirror_mode": {
    "name": "ipython",
    "version": 3
   },
   "file_extension": ".py",
   "mimetype": "text/x-python",
   "name": "python",
   "nbconvert_exporter": "python",
   "pygments_lexer": "ipython3",
   "version": "3.9.12"
  }
 },
 "nbformat": 4,
 "nbformat_minor": 5
}
